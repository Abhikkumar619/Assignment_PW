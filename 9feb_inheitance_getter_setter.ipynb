{
 "cells": [
  {
   "cell_type": "code",
   "execution_count": 16,
   "id": "b9ae05e2-0e78-4fe0-9fb1-5d97b6fb9c14",
   "metadata": {},
   "outputs": [],
   "source": [
    "\"\"\"\n",
    "Q1, Create a vehicle class with an init method having instance variables as name_of_vehicle, max_speed\n",
    "and average_of_vehicle.\n",
    "\"\"\"\n",
    "\n",
    "class vehicle:\n",
    "    def __init__(self, name_of_vehicle, max_speed, average_vehicle):\n",
    "        self.name_of_vehicle=name_of_vehicle\n",
    "        self.max_speed=max_speed\n",
    "        self.average_vehicle=average_vehicle\n",
    "    \n",
    "    def vehicale_details(self):\n",
    "        return self.name_of_vehicle, self.max_speed,self. average_vehicle\n"
   ]
  },
  {
   "cell_type": "code",
   "execution_count": 17,
   "id": "3b51af83-a113-400d-91cf-d84af536707a",
   "metadata": {},
   "outputs": [],
   "source": [
    "v1=vehicle(\"Royal rolls\", \"100km/h\", 23)"
   ]
  },
  {
   "cell_type": "code",
   "execution_count": 18,
   "id": "cddaf091-dcd1-4c2c-a87b-98d8365789b4",
   "metadata": {},
   "outputs": [
    {
     "data": {
      "text/plain": [
       "('Royal rolls', '100km/h', 23)"
      ]
     },
     "execution_count": 18,
     "metadata": {},
     "output_type": "execute_result"
    }
   ],
   "source": [
    "v1.vehicale_details()"
   ]
  },
  {
   "cell_type": "code",
   "execution_count": 33,
   "id": "68e35971-a486-448a-aa58-9c142e23c335",
   "metadata": {},
   "outputs": [],
   "source": [
    "\"\"\"\n",
    "Q2. Create a child class car from the vehicle class created in Que 1, which will inherit the vehicle class.\n",
    "Create a method named seating_capacity which takes capacity as an argument and returns the name of\n",
    "the vehicle and its seating capacity.\n",
    "\"\"\"\n",
    "class car(vehicle):\n",
    "    def seating_capacity(self, capacity):\n",
    "        self.capacity=capacity\n",
    "        if capacity==4:\n",
    "            print(\"Name of car:royal_rolls\")\n",
    "            print(\"total number of sits\",capacity)\n",
    "        if capacity==6:\n",
    "            print(\"Name of car: fortuner\")\n",
    "            print(\"total number of sits\", capacity)\n",
    "        if capacity==8:\n",
    "            print(\"Name of car: scoripo\")\n",
    "            print(\"total number of sits\", capacity)\n",
    "        \n"
   ]
  },
  {
   "cell_type": "code",
   "execution_count": 34,
   "id": "9cbe7731-8fe7-498c-babd-8f3ffbc9fa3e",
   "metadata": {},
   "outputs": [],
   "source": [
    "c1=car(\"Royal rolls\", \"100km/h\", 23)"
   ]
  },
  {
   "cell_type": "code",
   "execution_count": 35,
   "id": "154f2f75-4d3c-4805-aaef-05cf6ad6c3fc",
   "metadata": {},
   "outputs": [
    {
     "name": "stdout",
     "output_type": "stream",
     "text": [
      "Name of car: fortuner\n",
      "total number of sits 6\n"
     ]
    }
   ],
   "source": [
    "c1.seating_capacity(6)"
   ]
  },
  {
   "cell_type": "code",
   "execution_count": 46,
   "id": "fbcacab0-343c-45f7-8248-a8eb5fcf9432",
   "metadata": {},
   "outputs": [],
   "source": [
    "\"\"\"\n",
    "Q3. What is multiple inheritance?\n",
    "Write a python code to demonstrate multiple inheritance.\n",
    "\n",
    "ANS: When child class is inheited from two parent class is multiple inheritance.\n",
    "Example: \n",
    "\"\"\"\n",
    "\n",
    "class student: #parent class\n",
    "    def student_mark(self, math, science):\n",
    "        self.math=math\n",
    "        self.science=science\n",
    "    \n",
    "class mark_Cal:  #parent class\n",
    "    def calculation_of_mark(self):\n",
    "        total=self.math+self.science\n",
    "        print(\"toal mark\",total)\n",
    "\n",
    "class child_class(student, mark_Cal): #child class\n",
    "    pass\n",
    "    "
   ]
  },
  {
   "cell_type": "code",
   "execution_count": 47,
   "id": "6e019bc4-d3c4-4a02-928c-d83dcd9d4d8c",
   "metadata": {},
   "outputs": [],
   "source": [
    "c1=child_class()"
   ]
  },
  {
   "cell_type": "code",
   "execution_count": 48,
   "id": "7e12b279-5cf7-4389-9fe7-36136d900a90",
   "metadata": {},
   "outputs": [],
   "source": [
    "c1.student_mark(32,42)"
   ]
  },
  {
   "cell_type": "code",
   "execution_count": 49,
   "id": "49ff99d0-9fc5-4fe1-9467-a9968911b7f8",
   "metadata": {},
   "outputs": [
    {
     "name": "stdout",
     "output_type": "stream",
     "text": [
      "toal mark 74\n"
     ]
    }
   ],
   "source": [
    "c1.calculation_of_mark()"
   ]
  },
  {
   "cell_type": "code",
   "execution_count": 56,
   "id": "d17749ad-96b2-409e-b610-b83b3e724e8c",
   "metadata": {},
   "outputs": [],
   "source": [
    "# Q4. What are getter and setter in python? Create a class and create a getter and a setter method in this\n",
    "# class.\n",
    "\n",
    "class get_set:\n",
    "    def __init__(self):\n",
    "        self.__password=\"abishek\"\n",
    "    def getter(self):\n",
    "        return self.__password\n",
    "    def settter(self, passw):\n",
    "        self.__password=passw"
   ]
  },
  {
   "cell_type": "code",
   "execution_count": 57,
   "id": "afe94481-2c88-4a66-a604-595662b4c83f",
   "metadata": {},
   "outputs": [],
   "source": [
    "g1=get_set()"
   ]
  },
  {
   "cell_type": "code",
   "execution_count": 58,
   "id": "4fdb6d81-052e-4f46-a359-1549c4616636",
   "metadata": {},
   "outputs": [
    {
     "data": {
      "text/plain": [
       "'abishek'"
      ]
     },
     "execution_count": 58,
     "metadata": {},
     "output_type": "execute_result"
    }
   ],
   "source": [
    "g1.getter()"
   ]
  },
  {
   "cell_type": "code",
   "execution_count": 59,
   "id": "ff251b50-2077-466f-b5f6-8b7233f0fa17",
   "metadata": {},
   "outputs": [],
   "source": [
    "g1.settter(\"yadav\")"
   ]
  },
  {
   "cell_type": "code",
   "execution_count": 60,
   "id": "bee3165c-c2ac-41d8-9e39-638163941bec",
   "metadata": {},
   "outputs": [
    {
     "data": {
      "text/plain": [
       "'yadav'"
      ]
     },
     "execution_count": 60,
     "metadata": {},
     "output_type": "execute_result"
    }
   ],
   "source": [
    "g1.getter()"
   ]
  },
  {
   "cell_type": "code",
   "execution_count": 61,
   "id": "c4cb80b3-62c3-4194-875f-6ee8037bf6fc",
   "metadata": {},
   "outputs": [],
   "source": [
    "\"\"\"\n",
    "Q5.What is method overriding in python? Write a python code to demonstrate method overriding.\n",
    "Ans : In python same name of function perform different task in different sceanrio is  method overriding.\n",
    "Example: \n",
    "\"\"\"\n",
    "class student1:\n",
    "    def student_course(self):\n",
    "        return \"data_science\"\n",
    "class student2:\n",
    "    def student_course(self):\n",
    "        return \"data_science form student2\"\n",
    "    \n",
    "\n"
   ]
  },
  {
   "cell_type": "code",
   "execution_count": 62,
   "id": "b25a12f4-9117-4551-aae6-26ea7da13123",
   "metadata": {},
   "outputs": [],
   "source": [
    "ss1=student2()"
   ]
  },
  {
   "cell_type": "code",
   "execution_count": 63,
   "id": "1bf4cb66-bcc9-4308-b49a-3e56bc85515b",
   "metadata": {},
   "outputs": [
    {
     "data": {
      "text/plain": [
       "'data_science form student2'"
      ]
     },
     "execution_count": 63,
     "metadata": {},
     "output_type": "execute_result"
    }
   ],
   "source": [
    "ss1.student_course()"
   ]
  },
  {
   "cell_type": "code",
   "execution_count": 64,
   "id": "7c0b57ec-cfb7-4775-8c9c-14903ec63fb2",
   "metadata": {},
   "outputs": [],
   "source": [
    "ss2=student1()"
   ]
  },
  {
   "cell_type": "code",
   "execution_count": 66,
   "id": "c4ed68e1-1885-4340-bbd5-5e1ec6d03cc7",
   "metadata": {},
   "outputs": [
    {
     "data": {
      "text/plain": [
       "'data_science'"
      ]
     },
     "execution_count": 66,
     "metadata": {},
     "output_type": "execute_result"
    }
   ],
   "source": [
    "ss2.student_course()"
   ]
  },
  {
   "cell_type": "code",
   "execution_count": null,
   "id": "78e596e4-79fa-4250-ba66-d85125d60ccf",
   "metadata": {},
   "outputs": [],
   "source": []
  }
 ],
 "metadata": {
  "kernelspec": {
   "display_name": "Python 3 (ipykernel)",
   "language": "python",
   "name": "python3"
  },
  "language_info": {
   "codemirror_mode": {
    "name": "ipython",
    "version": 3
   },
   "file_extension": ".py",
   "mimetype": "text/x-python",
   "name": "python",
   "nbconvert_exporter": "python",
   "pygments_lexer": "ipython3",
   "version": "3.10.8"
  }
 },
 "nbformat": 4,
 "nbformat_minor": 5
}
