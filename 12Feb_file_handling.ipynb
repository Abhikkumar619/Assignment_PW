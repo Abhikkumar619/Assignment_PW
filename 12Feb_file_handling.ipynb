{
 "cells": [
  {
   "cell_type": "code",
   "execution_count": 1,
   "id": "7bf0d710-d120-4f92-be03-1874ceb67d24",
   "metadata": {},
   "outputs": [],
   "source": [
    "\"\"\"\n",
    "Q1. What is an Exception in python? Write the difference beetween Exceptations and syntax errors.\n",
    "\n",
    "Ans: An Exception is event that occurs during the execution of program which distrub the normal flow of\n",
    "     program is Exception.\n",
    "     \n",
    "Difference between Exceptation and syntax error: \n",
    "\n",
    " *syntax error:\n",
    " 1. The error which occurs because of invalid syntax, such type of error are considerd as syntax error.\n",
    " 2. Programmer are responsible for this error.\n",
    " \n",
    " 3.Example:\n",
    "         print 'This is syntax error'    # missing parenthesis.\n",
    "        \n",
    " *Exceptation: \n",
    "  1. It is a envet occurs during the execution of program which stop the flow of program.\n",
    "  2. To land our program safely we have to use exceptation handling.\n",
    "  2. Exceptation handling have two block one try and except.\n"
   ]
  },
  {
   "cell_type": "code",
   "execution_count": null,
   "id": "ec763ec3-5436-4db7-955e-5b43e47118e8",
   "metadata": {},
   "outputs": [],
   "source": [
    "\"\"\"\n",
    "Q2. What happens when excepation is not handled? Explain with an example ?\n",
    "\n",
    "Ans: If exceptation is not handle than our program not execute from the part of code that rise exceptation\n",
    "     and rest of the code remain as is it.so that to for graceful termination of our application we need to \n",
    "     we exceptation handling.\n",
    "Example: \n",
    "\"\"\""
   ]
  },
  {
   "cell_type": "code",
   "execution_count": 2,
   "id": "a7528de5-6560-492f-8142-34c5e8275b3a",
   "metadata": {},
   "outputs": [
    {
     "ename": "ZeroDivisionError",
     "evalue": "division by zero",
     "output_type": "error",
     "traceback": [
      "\u001b[0;31m---------------------------------------------------------------------------\u001b[0m",
      "\u001b[0;31mZeroDivisionError\u001b[0m                         Traceback (most recent call last)",
      "Cell \u001b[0;32mIn[2], line 2\u001b[0m\n\u001b[1;32m      1\u001b[0m a\u001b[38;5;241m=\u001b[39m\u001b[38;5;241m10\u001b[39m\n\u001b[0;32m----> 2\u001b[0m \u001b[43ma\u001b[49m\u001b[38;5;241;43m/\u001b[39;49m\u001b[38;5;241;43m0\u001b[39;49m\n",
      "\u001b[0;31mZeroDivisionError\u001b[0m: division by zero"
     ]
    }
   ],
   "source": [
    "a=10\n",
    "a/0\n"
   ]
  },
  {
   "cell_type": "code",
   "execution_count": null,
   "id": "ed386ccc-0128-4972-b398-7626670c80a7",
   "metadata": {},
   "outputs": [],
   "source": [
    "\"\"\"\n",
    "Q3. Which Python statements are used to catch and handle exceptions? Explain with example.\n",
    "\n",
    "Ans: try and except statement are used to catch and handle exceptaion.\n",
    "Example: \n"
   ]
  },
  {
   "cell_type": "code",
   "execution_count": 4,
   "id": "37db42c1-7d5f-4716-b0b6-67200acce4eb",
   "metadata": {},
   "outputs": [
    {
     "name": "stdout",
     "output_type": "stream",
     "text": [
      "[Errno 2] No such file or directory: 'test.txt'\n"
     ]
    }
   ],
   "source": [
    "try:\n",
    "    with open(\"test.txt\",'r') as ss:\n",
    "        ss.read()\n",
    "except Exception as e:\n",
    "    print(e)"
   ]
  },
  {
   "cell_type": "code",
   "execution_count": null,
   "id": "750faf3c-d905-4d32-bc83-aa8eb2b0b3a0",
   "metadata": {},
   "outputs": [],
   "source": [
    "\"\"\"\n",
    "4. explain with an example.\n",
    "\n",
    "a. try and else: \n",
    "\n",
    "Ans: try block test the block of code which return excepation, where except block handle the exceptation. if try block wont rise\n",
    "     the excepation then else block execute.\n",
    "Example: \n"
   ]
  },
  {
   "cell_type": "code",
   "execution_count": 5,
   "id": "e7de8060-753f-4d76-8bfd-e61ce4685d2e",
   "metadata": {},
   "outputs": [
    {
     "name": "stdout",
     "output_type": "stream",
     "text": [
      "This is my try block\n",
      "This is else part\n"
     ]
    }
   ],
   "source": [
    "try: \n",
    "    print(\"This is my try block\")\n",
    "except Exception as e: \n",
    "    print(e)\n",
    "else : \n",
    "    print(\"This is else part\")"
   ]
  },
  {
   "cell_type": "code",
   "execution_count": null,
   "id": "9afad8ce-60c6-45c4-b274-a9b45c2f424b",
   "metadata": {},
   "outputs": [],
   "source": [
    "\"\"\"\n",
    "b. Finally\n",
    "ans: In excepataion handling finally will execute in any situation either program rise exceptation or not.\n",
    "Example: \n",
    "\"\"\"\n"
   ]
  },
  {
   "cell_type": "code",
   "execution_count": null,
   "id": "95d25ed2-aa15-4b36-8043-384aed2f55e6",
   "metadata": {},
   "outputs": [],
   "source": []
  },
  {
   "cell_type": "code",
   "execution_count": 1,
   "id": "237bd836-0803-4682-9e42-028846dab25d",
   "metadata": {},
   "outputs": [
    {
     "name": "stdin",
     "output_type": "stream",
     "text": [
      "Enter number positive -2\n"
     ]
    },
    {
     "ename": "Exception",
     "evalue": "number is less than zero..",
     "output_type": "error",
     "traceback": [
      "\u001b[0;31m---------------------------------------------------------------------------\u001b[0m",
      "\u001b[0;31mException\u001b[0m                                 Traceback (most recent call last)",
      "Cell \u001b[0;32mIn[1], line 7\u001b[0m\n\u001b[1;32m      5\u001b[0m x\u001b[38;5;241m=\u001b[39m\u001b[38;5;28mint\u001b[39m(\u001b[38;5;28minput\u001b[39m(\u001b[38;5;124m\"\u001b[39m\u001b[38;5;124mEnter number positive\u001b[39m\u001b[38;5;124m\"\u001b[39m))\n\u001b[1;32m      6\u001b[0m \u001b[38;5;28;01mif\u001b[39;00m x\u001b[38;5;241m<\u001b[39m \u001b[38;5;241m0\u001b[39m:\n\u001b[0;32m----> 7\u001b[0m     \u001b[38;5;28;01mraise\u001b[39;00m \u001b[38;5;167;01mException\u001b[39;00m(\u001b[38;5;124m\"\u001b[39m\u001b[38;5;124mnumber is less than zero..\u001b[39m\u001b[38;5;124m\"\u001b[39m)\n\u001b[1;32m      8\u001b[0m \u001b[38;5;28;01melse\u001b[39;00m: \n\u001b[1;32m      9\u001b[0m     \u001b[38;5;28mprint\u001b[39m(x)\n",
      "\u001b[0;31mException\u001b[0m: number is less than zero.."
     ]
    }
   ],
   "source": [
    "\"\"\"\n",
    "c. rises:\n",
    " Example: \n",
    " \"\"\"\n",
    "x=int(input(\"Enter number positive\"))\n",
    "if x< 0:\n",
    "    raise Exception(\"number is less than zero..\")\n",
    "else: \n",
    "    print(x)"
   ]
  },
  {
   "cell_type": "code",
   "execution_count": null,
   "id": "21221d50-4c9b-41b3-b183-f28e85c531ad",
   "metadata": {},
   "outputs": [],
   "source": [
    "\"\"\"\n",
    "5. what is custom exception in python ? \n",
    "why we need exceptation ? Explain with an example.\n",
    "\n",
    "Ans: Custome exception is creating a new class theat is derived from the bulid in Exception class\n",
    "     is custom exception.\n",
    "     we need custom exception because it provide the flexiablity to ass attributes and method \n",
    "     that are not part of exception.\n",
    "     \n",
    "Example:\n",
    "\"\"\""
   ]
  },
  {
   "cell_type": "code",
   "execution_count": 2,
   "id": "5ae67a12-49b7-4bb0-a06d-715908f27262",
   "metadata": {},
   "outputs": [],
   "source": [
    "class temprature_validate(Exception):\n",
    "    def __init__(self, msg):\n",
    "        self.msg=msg"
   ]
  },
  {
   "cell_type": "code",
   "execution_count": 7,
   "id": "5a071ca8-b2f2-4097-a510-5bdd62f9e1f5",
   "metadata": {},
   "outputs": [],
   "source": [
    "def tempratur_Exception(celsius):\n",
    "    if celsius<0:\n",
    "        raise temprature_validate(\"calsius is less than zero\")\n",
    "    elif celsius > 200: \n",
    "        raise temprature_validate(\"calcius is max\")\n",
    "    else: \n",
    "        print(\"valid calcius\")\n",
    "        "
   ]
  },
  {
   "cell_type": "code",
   "execution_count": 8,
   "id": "8effdda4-e11a-4c98-8b53-20d7019589e2",
   "metadata": {},
   "outputs": [
    {
     "name": "stdin",
     "output_type": "stream",
     "text": [
      "Enter tempreatue -56\n"
     ]
    },
    {
     "name": "stdout",
     "output_type": "stream",
     "text": [
      "calsius is less than zero\n"
     ]
    }
   ],
   "source": [
    "try: \n",
    "    celsius=float(input(\"Enter tempreatue\"))\n",
    "    tempratur_Exception(celsius)\n",
    "except temprature_validate as e: \n",
    "    print(e)"
   ]
  },
  {
   "cell_type": "code",
   "execution_count": 9,
   "id": "63672085-c82a-4375-868e-b2145e2f5186",
   "metadata": {},
   "outputs": [],
   "source": [
    "# 6. create a custom exception class. use this class to handle an exception."
   ]
  },
  {
   "cell_type": "code",
   "execution_count": 6,
   "id": "1f9c2a16-ce7f-42fd-bfb3-dd893a2d49e9",
   "metadata": {},
   "outputs": [],
   "source": [
    "class salaryNOt(Exception):\n",
    "    def __init__(self,msg):\n",
    "        self.msg=msg\n",
    "        \n",
    "        "
   ]
  },
  {
   "cell_type": "code",
   "execution_count": 8,
   "id": "98de3172-6c4d-4620-91e6-a004587ff201",
   "metadata": {},
   "outputs": [],
   "source": [
    "def fun_salary(salary):\n",
    "    if salary< 2000:\n",
    "        raise salaryNOt(\"This is lowest salary: \")\n",
    "    elif salary > 100000:\n",
    "        raise salaryNOt(\"max salary\")\n",
    "        \n",
    "    else :\n",
    "        print(\"valid salary\")"
   ]
  },
  {
   "cell_type": "code",
   "execution_count": 10,
   "id": "6fc096fe-df10-4a54-828c-390f72bffb41",
   "metadata": {},
   "outputs": [
    {
     "name": "stdin",
     "output_type": "stream",
     "text": [
      "Enter salary -67\n"
     ]
    },
    {
     "name": "stdout",
     "output_type": "stream",
     "text": [
      "This is lowest salary: \n"
     ]
    }
   ],
   "source": [
    "\n",
    "try:\n",
    "    salary=int(input(\"Enter salary\"))\n",
    "    fun_salary(salary)\n",
    "except salaryNOt as s:\n",
    "    print(s)\n",
    "\n",
    "    "
   ]
  },
  {
   "cell_type": "code",
   "execution_count": null,
   "id": "b78f05a5-429d-442c-91ca-5a32e65e2a49",
   "metadata": {},
   "outputs": [],
   "source": []
  }
 ],
 "metadata": {
  "kernelspec": {
   "display_name": "Python 3 (ipykernel)",
   "language": "python",
   "name": "python3"
  },
  "language_info": {
   "codemirror_mode": {
    "name": "ipython",
    "version": 3
   },
   "file_extension": ".py",
   "mimetype": "text/x-python",
   "name": "python",
   "nbconvert_exporter": "python",
   "pygments_lexer": "ipython3",
   "version": "3.10.8"
  }
 },
 "nbformat": 4,
 "nbformat_minor": 5
}
