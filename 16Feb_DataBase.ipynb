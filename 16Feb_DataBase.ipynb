{
 "cells": [
  {
   "cell_type": "code",
   "execution_count": null,
   "id": "a041b091-577e-491b-8071-6ddbcb01cdcc",
   "metadata": {},
   "outputs": [],
   "source": [
    "\"\"\"\n",
    "Q1. What is a database? Differentiate between SQL and NoSQL databases.\n",
    "Ans: The collection of related data that exits over long perid time is database.\n",
    "      Ex: Real world enterprise.\n",
    "          Online banking banking system.\n",
    "          library management system.\n",
    "          \n",
    "mySql\n",
    "1.It iis relational database in nature.\n",
    "2. This module is based on concept of tbale.\n",
    "3. Being relationl in nature tough task to scale big data.\n",
    "4. sql is standard language.\n",
    "\n",
    "Nosql\n",
    "1. A non-relational database in nature.\n",
    "2. Modeled based on the concept of document.\n",
    "3. Easily scalable bigdata as compare to relational.\n",
    "4. Lake of standerd query language."
   ]
  },
  {
   "cell_type": "code",
   "execution_count": null,
   "id": "a3560717-9be6-4c27-9fb3-3e3c2ad45fc4",
   "metadata": {},
   "outputs": [],
   "source": [
    "\"\"\"\n",
    "Q2. What is DDL? Explain why CREATE, DROP, ALTER, and TRUNCATE are used with an example.\n",
    "\n",
    "Ans: It is data defination language which we create structure and table.not in data.\n",
    "     \n",
    "     CREATE: create keyword is used to create structure for table.\n",
    "             CREATE TABLE STUDENT(\n",
    "             NAME VARCHAR(10) PRIMARY KEY,\n",
    "             ROLL_NUM NUMBER(4) NOT NULL,\n",
    "             COLLEGE_NAME VARCHAR(20) NOTNULL\n",
    "             );\n",
    "     DROP: it is used to delete table.\n",
    "           DROP STUDENT;\n",
    "     ALTER: it is used to alter table like add column, remove column, add contraints, Remove constraints, rename column,\n",
    "           ALTER TABLE STUDENT RENAME TO STS;\n",
    "     \n",
    "     TRUNCATE : It delete whole data in one sort, not even log exist in backend.\n",
    "               TRUNCATE STUDENT;\n",
    "     "
   ]
  },
  {
   "cell_type": "code",
   "execution_count": null,
   "id": "07479c32-a644-4908-aaf1-49dca8f0a605",
   "metadata": {},
   "outputs": [],
   "source": [
    "\"\"\"\n",
    "Q3. What is DML? Explain INSERT, UPDATE, and DELETE with an example.\n",
    "\n",
    "ANS: Data manipulation language which works in data inside relation.\n",
    "    like update the existing data, insert data, delete data.\n",
    "    \n",
    "    Insert: This command is used to insert data in relation.\n",
    "           INSERT INTO student values (\"abishek\", \"23\", \"The british college\")\n",
    "    Updata: This command is used to update existing data inside relation.\n",
    "           UPDATE TABLE STUDENT SET NAME=\"ABHIK\" WHERE NAME='Abishek' AND ROLL_NUM=1;\n",
    "           \n",
    "    DELETE: This command delete existing data inside realtion.\n",
    "           DELETE FROM STUDENT WHERE ROLL_NUM=3;"
   ]
  },
  {
   "cell_type": "code",
   "execution_count": 1,
   "id": "ef3d36b1-7d65-4c85-9ac7-60aedb0ac52d",
   "metadata": {},
   "outputs": [],
   "source": [
    "\"\"\"\n",
    "Q4. What is DQL? Explain SELECT with an example.\n",
    "ans: Data query language which help us to feth organise from relation based on our condition.\n",
    "    SELECT * FROM STUDENT;\n"
   ]
  },
  {
   "cell_type": "code",
   "execution_count": 2,
   "id": "4b97d9e2-b39c-467d-9ebb-4166121eae35",
   "metadata": {},
   "outputs": [],
   "source": [
    "\"\"\"\n",
    "Q5. Explain Primary Key and Foreign Key.\n",
    "Ans:\n",
    "primary key.\n",
    "The key which uniquly indentify the tupel in relation is primary key.\n",
    "it cannot be null.\n",
    "we can make column primary key using PRIMARY KEY keyword.\n",
    "\n",
    "Foreign key.\n",
    "1. The key which give reference to another relation in ralation is foreign key.\n",
    "2. foreign is primary key of another relation.\n",
    "3. foreign key must existing data of another relation.\n",
    "\n"
   ]
  },
  {
   "cell_type": "code",
   "execution_count": 3,
   "id": "a1ce4d34-fa72-4c44-9262-08f0db2189ff",
   "metadata": {},
   "outputs": [],
   "source": [
    "\"\"\"\n",
    "Q6. Write a python code to connect MySQL to python. Explain the cursor() and execute() method.\n",
    "Ans: \n",
    "import mysql.connector\n",
    "connStr.my.connection.connect(\n",
    "host='loaclhost'\n",
    "user='abc'\n",
    "password='password'\n",
    ")\n",
    "print(connstr)\n",
    "# cursor=connstr.cursor()\n",
    "\n",
    "Cursor(): It is variable that runs through the result of a SELECT, row by row.\n",
    "execute(): execute function execute the python code pass as a string."
   ]
  },
  {
   "cell_type": "code",
   "execution_count": null,
   "id": "760625ef-9836-4652-8d0b-de9e467223d9",
   "metadata": {},
   "outputs": [],
   "source": [
    "\"\"\"\n",
    "Q7. Give the order of execution of SQL clauses in an SQL query.\n",
    "\n",
    "Ans: The order of execution of sql clauses are \n",
    "    1. WHERE\n",
    "    2. GROUP BY\n",
    "    3. HAVING\n",
    "    4. ORDER BY."
   ]
  }
 ],
 "metadata": {
  "kernelspec": {
   "display_name": "Python 3 (ipykernel)",
   "language": "python",
   "name": "python3"
  },
  "language_info": {
   "codemirror_mode": {
    "name": "ipython",
    "version": 3
   },
   "file_extension": ".py",
   "mimetype": "text/x-python",
   "name": "python",
   "nbconvert_exporter": "python",
   "pygments_lexer": "ipython3",
   "version": "3.10.8"
  }
 },
 "nbformat": 4,
 "nbformat_minor": 5
}
