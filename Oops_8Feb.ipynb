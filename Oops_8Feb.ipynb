{
 "cells": [
  {
   "cell_type": "code",
   "execution_count": 2,
   "id": "7a32b9de-02d0-4688-b58e-4f77bb2b9c70",
   "metadata": {},
   "outputs": [],
   "source": [
    "\"\"\" Abstraction : showing only necessary thing to the users and hiding all the irrelavent or process \n",
    "part called abstraction.\n",
    "Example:\"\"\"\n",
    "from abc import ABC,abstractmethod\n",
    "class shape(ABC):\n",
    "    @abstractmethod\n",
    "    def area(self):\n",
    "        pass\n",
    "    "
   ]
  },
  {
   "cell_type": "code",
   "execution_count": 5,
   "id": "89f20e40-39e2-42e8-b3a0-26b3f03a4307",
   "metadata": {},
   "outputs": [],
   "source": [
    "class squre(shape):\n",
    "    def __init__(self, s):\n",
    "        self.shape=s\n",
    "    def area(self):\n",
    "        return self.shape*self.shape\n",
    "        "
   ]
  },
  {
   "cell_type": "code",
   "execution_count": 6,
   "id": "679e9f4c-aab8-4f3d-a017-34a7326b0963",
   "metadata": {},
   "outputs": [],
   "source": [
    "sq=squre(3)"
   ]
  },
  {
   "cell_type": "code",
   "execution_count": 7,
   "id": "c5636f92-dfba-47f6-9442-7324712eeadc",
   "metadata": {},
   "outputs": [
    {
     "data": {
      "text/plain": [
       "9"
      ]
     },
     "execution_count": 7,
     "metadata": {},
     "output_type": "execute_result"
    }
   ],
   "source": [
    "sq.area()"
   ]
  },
  {
   "cell_type": "code",
   "execution_count": 2,
   "id": "d653a996-c23b-466e-953c-ccfa44f2c528",
   "metadata": {},
   "outputs": [
    {
     "data": {
      "text/plain": [
       "'\\n1.The method which only has a declaration but not a defination is called abastact method.\\n   The class which have abstract methods is abstract classes.\\n2. by defult python does not support abstract classes.\\n3. Also we cannot create the object of abstract classes.\\n4. To make abstract classes we have to import module called form abc impirt ABC, abstractmethod.'"
      ]
     },
     "execution_count": 2,
     "metadata": {},
     "output_type": "execute_result"
    }
   ],
   "source": [
    "# 2. Difference between Encapulation and Abstraction.\n",
    "\"\"\"\n",
    "1.The method which only has a declaration but not a defination is called abastact method.\n",
    "   The class which have abstract methods is abstract classes.\n",
    "2. by defult python does not support abstract classes.\n",
    "3. Also we cannot create the object of abstract classes.\n",
    "4. To make abstract classes we have to import module called form abc impirt ABC, abstractmethod.\"\"\"\n"
   ]
  },
  {
   "cell_type": "code",
   "execution_count": 3,
   "id": "6769be53-33fb-408a-88ab-da8d9aa466fe",
   "metadata": {},
   "outputs": [],
   "source": [
    "from abc import ABC,abstractmethod\n",
    "class shape(ABC):\n",
    "    @abstractmethod\n",
    "    def area(slef):\n",
    "        pass\n",
    "    def perimeter(slef):\n",
    "        pass"
   ]
  },
  {
   "cell_type": "code",
   "execution_count": 4,
   "id": "2cd53f17-2054-40bd-9da8-0cf8788cfecd",
   "metadata": {},
   "outputs": [],
   "source": [
    "class square(shape):\n",
    "    def __init__(self,s):\n",
    "        self.side=s\n",
    "    def area(self):\n",
    "        return self.side*self.side\n",
    "    def perimeter(self):\n",
    "        return 4*self.side\n",
    "        "
   ]
  },
  {
   "cell_type": "code",
   "execution_count": 5,
   "id": "97246dda-c5d9-4686-a596-96a280a0f9ee",
   "metadata": {},
   "outputs": [],
   "source": [
    "sq=square(4)"
   ]
  },
  {
   "cell_type": "code",
   "execution_count": 6,
   "id": "330ed6d7-9a25-4811-8131-99f3def5b5b4",
   "metadata": {},
   "outputs": [
    {
     "data": {
      "text/plain": [
       "16"
      ]
     },
     "execution_count": 6,
     "metadata": {},
     "output_type": "execute_result"
    }
   ],
   "source": [
    "sq.area()"
   ]
  },
  {
   "cell_type": "code",
   "execution_count": null,
   "id": "46aae74a-c9a2-4b0c-8210-b7b6cdd2fefb",
   "metadata": {},
   "outputs": [],
   "source": [
    "\"\"\"\n",
    "1. Encapulation is the wraping of data and method in a single unit is called Encapulation.\n",
    "2. Encapulation allows us to restrict accessing vaiable ans method directly and prevent accidental modification\n",
    "3. Encapulation can be achive by declearing the data member and method od class either as private or protected.\n",
    "   by using underscore and double underscore.\"\"\""
   ]
  },
  {
   "cell_type": "code",
   "execution_count": 8,
   "id": "d7c9049d-daaf-4181-9e8e-742e2a7d4983",
   "metadata": {},
   "outputs": [],
   "source": [
    "class Student:\n",
    "    def __init__(self, name, roll_num, address):\n",
    "        self.__studentname=name\n",
    "        self.__studentroll_num=roll_num\n",
    "        self.__studentaddress=address\n",
    "    def show(self):\n",
    "        print(\"Student details: \", self.__studentname)"
   ]
  },
  {
   "cell_type": "code",
   "execution_count": 10,
   "id": "2cacafc7-c08c-471e-ba96-94c7b48b5362",
   "metadata": {},
   "outputs": [],
   "source": [
    "st=Student(\"abishek\", 23, \"mirchaiya\")"
   ]
  },
  {
   "cell_type": "code",
   "execution_count": 11,
   "id": "c7a6a044-2b78-4bd8-a232-4055b8d95b37",
   "metadata": {},
   "outputs": [
    {
     "name": "stdout",
     "output_type": "stream",
     "text": [
      "Student details:  abishek\n"
     ]
    }
   ],
   "source": [
    "st.show()"
   ]
  },
  {
   "cell_type": "code",
   "execution_count": null,
   "id": "c7da04ed-ac87-4a49-a681-929ab0632730",
   "metadata": {},
   "outputs": [],
   "source": [
    "\"\"\" 3. Abc model\n",
    "Basically ABC model is abstract base class model. To decleare base class and method abstract we have to import \n",
    "model called \" from abc import ABC, abstractmethod \" which allow us to make class abstract.\n",
    "The main objective of abstract base class is to not allow to creat object of  parent class. \"\"\""
   ]
  },
  {
   "cell_type": "code",
   "execution_count": 16,
   "id": "29168cb4-b8f1-4102-9c7e-f9131c48e6fa",
   "metadata": {},
   "outputs": [],
   "source": [
    "\"\"\"4.\n",
    "We can data abstraction by simplly import abc model and pass 'ABC' in parent class and in method applying decorators.\n",
    "ex: \n",
    "\"\"\"\n",
    "from abc import ABC, abstractmethod\n",
    "class parent(ABC):\n",
    "    @abstractmethod\n",
    "    def display(self):\n",
    "        pass\n",
    "class child(parent):\n",
    "    def display(self):\n",
    "        return \"hellow world\"\n",
    "   \n"
   ]
  },
  {
   "cell_type": "code",
   "execution_count": 17,
   "id": "234985db-fffb-48a1-b722-eb133c417eb0",
   "metadata": {},
   "outputs": [],
   "source": [
    "chi=child()"
   ]
  },
  {
   "cell_type": "code",
   "execution_count": 18,
   "id": "843d9c95-1b86-42f7-bdf2-e96a296097d5",
   "metadata": {},
   "outputs": [
    {
     "data": {
      "text/plain": [
       "'hellow world'"
      ]
     },
     "execution_count": 18,
     "metadata": {},
     "output_type": "execute_result"
    }
   ],
   "source": [
    "chi.display()"
   ]
  },
  {
   "cell_type": "code",
   "execution_count": null,
   "id": "719c2660-8bac-406b-bbab-f6085cf37cd9",
   "metadata": {},
   "outputs": [],
   "source": [
    "\"\"\" 5.\n",
    "NO, we cannot create the instance of abstract class.Basically we do abstract class so that user only use \n",
    "necessary thing as user point of view not how  implementaion happen. and the main object of abstract class is \n",
    "to not allow to create the object of parent class.\n",
    "\n"
   ]
  }
 ],
 "metadata": {
  "kernelspec": {
   "display_name": "Python 3 (ipykernel)",
   "language": "python",
   "name": "python3"
  },
  "language_info": {
   "codemirror_mode": {
    "name": "ipython",
    "version": 3
   },
   "file_extension": ".py",
   "mimetype": "text/x-python",
   "name": "python",
   "nbconvert_exporter": "python",
   "pygments_lexer": "ipython3",
   "version": "3.10.8"
  }
 },
 "nbformat": 4,
 "nbformat_minor": 5
}
