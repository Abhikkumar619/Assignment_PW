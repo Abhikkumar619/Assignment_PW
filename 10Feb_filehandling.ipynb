{
 "cells": [
  {
   "cell_type": "code",
   "execution_count": null,
   "id": "073565f4-8b8b-455a-bf2f-53a4ef7b1387",
   "metadata": {},
   "outputs": [],
   "source": [
    "\"\"\"\n",
    "Q1. Which function is used to open a file? What are the different modes of opening a file? Explain each mode\n",
    "of file opening.\n",
    "Ans: open() fnction is used to open file.\n",
    "     Different mode of opening file are:\n",
    "     \n",
    "     1. write('w') mode : write mode help us to open file to write and create file it not exits or\n",
    "     truncate file if exits.\n",
    "\n",
    "     2. append('a') mode : append mode help us to append data to exitsting file with out truncate like write mode.\n",
    "     \n",
    "     3. read('r') mode :  This mode help us to read or fetch data from  created file in human readable form.\n",
    "                          \n",
    "\n",
    "\"\"\"\n"
   ]
  },
  {
   "cell_type": "code",
   "execution_count": null,
   "id": "f14522d4-148a-4e67-b5e2-40cdd5bda61a",
   "metadata": {},
   "outputs": [],
   "source": [
    "\"\"\"\n",
    "Q2. Why close() function is used? Why is it important to close a file?\n",
    "\n",
    "Ans: When we done to perform our operation on  file to execute porperly we use close function.\n",
    "it is important because: \n",
    "it avoid unnecessary written and close the file object, after which no more written done.\n",
    "\"\"\"\n"
   ]
  },
  {
   "cell_type": "code",
   "execution_count": 2,
   "id": "9c19fa42-d629-4cbd-b69e-b3aaa3aa65b7",
   "metadata": {},
   "outputs": [],
   "source": [
    "\"\"\"\n",
    "Q3. Write a python program to create a text file. Write ‘I want to become a Data Scientist’ in that file. Then\n",
    "close the file. Open this file and read the content of the file.\n",
    "\n",
    "Ans: \n",
    "\"\"\"\n",
    "with open(\"data.txt\",'w') as da:\n",
    "    da.write(\"I want to become data scientist\")\n",
    "    "
   ]
  },
  {
   "cell_type": "code",
   "execution_count": 3,
   "id": "fe7a491f-0704-4503-8c7b-fad19196566d",
   "metadata": {},
   "outputs": [],
   "source": [
    "da.close()"
   ]
  },
  {
   "cell_type": "code",
   "execution_count": 6,
   "id": "1803bdf3-26a0-45e4-808b-df838f06dd81",
   "metadata": {},
   "outputs": [],
   "source": [
    "with open(\"data.txt\",'r') as da:\n",
    "    va=da.read()"
   ]
  },
  {
   "cell_type": "code",
   "execution_count": 7,
   "id": "40057542-5e55-4ef7-b695-accd7d335f0c",
   "metadata": {},
   "outputs": [
    {
     "data": {
      "text/plain": [
       "'I want to become data scientist'"
      ]
     },
     "execution_count": 7,
     "metadata": {},
     "output_type": "execute_result"
    }
   ],
   "source": [
    "va"
   ]
  },
  {
   "cell_type": "code",
   "execution_count": null,
   "id": "c07ce224-ac03-482f-92bc-fc428e0dd5f6",
   "metadata": {},
   "outputs": [],
   "source": [
    "# Q4. Explain the following with python code: read(), readline() and readlines()."
   ]
  },
  {
   "cell_type": "code",
   "execution_count": 15,
   "id": "448381c1-a60a-44fe-903e-3ce8189e9862",
   "metadata": {},
   "outputs": [],
   "source": [
    " # read() : Basically read function is read the hole data at once and fetch data.\n",
    "with open(\"test0.txt\",'w') as tt:\n",
    "    tt.write(\"Working as a data scientist can be intellectually challenging, analytically satisfying, and put you at the forefront of new advances in technology. Data scientists have become more common and in demand, as big data continues to be increasingly important to the way organizations make decisions. Here’s a closer look at what they are and do—and how to become one.\")"
   ]
  },
  {
   "cell_type": "code",
   "execution_count": 10,
   "id": "b5f9304d-a9e9-4275-b287-a42f2623336b",
   "metadata": {},
   "outputs": [],
   "source": [
    "# tt.close()"
   ]
  },
  {
   "cell_type": "code",
   "execution_count": 16,
   "id": "f17b9644-97e8-469a-8da8-1cde45802087",
   "metadata": {},
   "outputs": [],
   "source": [
    "with open(\"test0.txt\",'r') as ss:\n",
    "    rr=ss.read()"
   ]
  },
  {
   "cell_type": "code",
   "execution_count": 17,
   "id": "0b48b019-474e-4bbd-8c0f-c02bbb9b350c",
   "metadata": {},
   "outputs": [
    {
     "data": {
      "text/plain": [
       "'Working as a data scientist can be intellectually challenging, analytically satisfying, and put you at the forefront of new advances in technology. Data scientists have become more common and in demand, as big data continues to be increasingly important to the way organizations make decisions. Here’s a closer look at what they are and do—and how to become one.'"
      ]
     },
     "execution_count": 17,
     "metadata": {},
     "output_type": "execute_result"
    }
   ],
   "source": [
    "rr"
   ]
  },
  {
   "cell_type": "code",
   "execution_count": 37,
   "id": "ca07e3d8-429e-435e-a214-447f1382adc6",
   "metadata": {},
   "outputs": [],
   "source": [
    "# readline: it read data besed on given index.\n",
    "with open(\"test0.txt\",'r') as ss:\n",
    "    rr=ss.readline(12) "
   ]
  },
  {
   "cell_type": "code",
   "execution_count": 38,
   "id": "90e98ff2-e36e-42cd-9d06-3dfe930fc746",
   "metadata": {},
   "outputs": [
    {
     "data": {
      "text/plain": [
       "'Working as a'"
      ]
     },
     "execution_count": 38,
     "metadata": {},
     "output_type": "execute_result"
    }
   ],
   "source": [
    "rr"
   ]
  },
  {
   "cell_type": "code",
   "execution_count": 39,
   "id": "d1751352-e710-49a0-8765-14e0c8a3f113",
   "metadata": {},
   "outputs": [
    {
     "data": {
      "text/plain": [
       "['Working as a data scientist can be intellectually challenging, analytically satisfying, and put you at the forefront of new advances in technology. Data scientists have become more common and in demand, as big data continues to be increasingly important to the way organizations make decisions. Here’s a closer look at what they are and do—and how to become one.']"
      ]
     },
     "execution_count": 39,
     "metadata": {},
     "output_type": "execute_result"
    }
   ],
   "source": [
    "# readlines: it read data in the form of list.\n",
    "with open(\"test0.txt\",'r') as ss:\n",
    "    rr=ss.readlines() \n",
    "rr"
   ]
  },
  {
   "cell_type": "code",
   "execution_count": null,
   "id": "20537710-f6cc-4110-94f9-e98b2f7200d7",
   "metadata": {},
   "outputs": [],
   "source": [
    "\"\"\"\n",
    "Q5. Explain why with statement is used with open(). What is the advantage of using with statement and\n",
    "open() together?\n",
    "Ans: we use with statement to open file because with statement closes automatically. so that we dont need to close file.\n",
    "The advantage of using with statement is close file for us and we write less code."
   ]
  },
  {
   "cell_type": "code",
   "execution_count": 41,
   "id": "930b56da-ab63-4fcb-8123-86da8033550b",
   "metadata": {},
   "outputs": [],
   "source": [
    "# Q6. Explain the write() and writelines() functions. Give a suitable example.\n",
    "\n",
    "#Ans : write(): Basically write function write in file without giveing new line.\n",
    "       # writelines(): used to write multiple lines of text or string to a file at once. \n",
    "\n",
    "with open (\"test001.txt\",'w') as dd:\n",
    "    dd.write(\"i want to become data scientist\")\n",
    "    dd.write(\"hollo world\")\n",
    "   "
   ]
  },
  {
   "cell_type": "code",
   "execution_count": 53,
   "id": "fde91fbc-4f37-4155-a3fb-fb7091ed8313",
   "metadata": {},
   "outputs": [],
   "source": [
    "\n",
    "with open(\"test005.txt\",'w') as vv:\n",
    "    vv.writelines([\"This is first line.\", \"This is second line.\"])\n",
    "    # vv.writelines(\"may i come in\")"
   ]
  },
  {
   "cell_type": "code",
   "execution_count": 54,
   "id": "771e15c8-6833-4907-80c1-4a3a2b533393",
   "metadata": {},
   "outputs": [],
   "source": [
    "vv.close()"
   ]
  },
  {
   "cell_type": "code",
   "execution_count": null,
   "id": "e561d9eb-72e1-41b7-b29a-92e830e53b48",
   "metadata": {},
   "outputs": [],
   "source": []
  }
 ],
 "metadata": {
  "kernelspec": {
   "display_name": "Python 3 (ipykernel)",
   "language": "python",
   "name": "python3"
  },
  "language_info": {
   "codemirror_mode": {
    "name": "ipython",
    "version": 3
   },
   "file_extension": ".py",
   "mimetype": "text/x-python",
   "name": "python",
   "nbconvert_exporter": "python",
   "pygments_lexer": "ipython3",
   "version": "3.10.8"
  }
 },
 "nbformat": 4,
 "nbformat_minor": 5
}
