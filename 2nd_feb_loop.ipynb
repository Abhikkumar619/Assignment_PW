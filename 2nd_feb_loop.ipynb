{
 "cells": [
  {
   "cell_type": "code",
   "execution_count": 1,
   "id": "d20cfca0-0481-45ac-858d-5c5bcef7ec86",
   "metadata": {},
   "outputs": [
    {
     "name": "stdout",
     "output_type": "stream",
     "text": [
      "*\n",
      "*\n",
      "*\n",
      "*\n"
     ]
    }
   ],
   "source": [
    "'''1. Explain with example when each when to use for loop and while loop.\n",
    "ANS: Baically for loop is used when we know condition and execuation time of task\n",
    "'''\n",
    "#example:\n",
    "for i in range(1,5):\n",
    "    print(\"*\")"
   ]
  },
  {
   "cell_type": "code",
   "execution_count": 5,
   "id": "a48c38ba-c6bb-4f2f-a733-d0150953d8ee",
   "metadata": {},
   "outputs": [
    {
     "name": "stdout",
     "output_type": "stream",
     "text": [
      "1\n",
      "2\n",
      "3\n",
      "4\n",
      "5\n",
      "6\n",
      "7\n",
      "8\n",
      "9\n"
     ]
    }
   ],
   "source": [
    "# and while loop is use when we need to stop the loop based on condition no matter how many time it itrate.\n",
    "#examle:\n",
    "num=1\n",
    "while num<10:\n",
    "    print(num)\n",
    "    num=num+1\n"
   ]
  },
  {
   "cell_type": "code",
   "execution_count": 10,
   "id": "01fb4124-8b91-48e3-9611-27cf0f5466e5",
   "metadata": {},
   "outputs": [
    {
     "name": "stdout",
     "output_type": "stream",
     "text": [
      "The sum of first 10 natural number:  45\n",
      "The product od first 10 natural number:  3628800\n"
     ]
    }
   ],
   "source": [
    "# 2. Sum and profuct of first 10 natural number .\n",
    "num=0\n",
    "add=0\n",
    "prd=1\n",
    "while num<10:\n",
    "    # for addition\n",
    "    add=add+num\n",
    "    num=num+1 \n",
    "    #for multiplation.\n",
    "    prd=prd*num\n",
    "print(\"The sum of first 10 natural number: \",add)\n",
    "print(\"The product od first 10 natural number: \", prd )\n"
   ]
  },
  {
   "cell_type": "code",
   "execution_count": 6,
   "id": "c45fd3d9-9672-4e6e-a2a1-e053cd9b5ce4",
   "metadata": {},
   "outputs": [
    {
     "name": "stdin",
     "output_type": "stream",
     "text": [
      "Enter the unity of electricity:  310\n"
     ]
    },
    {
     "name": "stdout",
     "output_type": "stream",
     "text": [
      "Total Electricty bill:  2250.0\n"
     ]
    }
   ],
   "source": [
    "# 3.Create a python program to compute the electicity bill for a household.\n",
    "unity_of_electicty=float(input(\"Enter the unity of electricity: \"))\n",
    "\n",
    "if unity_of_electicty <=100:\n",
    "    amount=unity_of_electicty*4.5\n",
    "    print(amount)\n",
    "if unity_of_electicty >100 and unity_of_electicty<200:\n",
    "    rem=unity_of_electicty%100\n",
    "    amount1=rem*6\n",
    "    amount2=100*4.5\n",
    "    total_amount=amount1+amount2\n",
    "    print(\"Total electicty bill: \",total_amount)\n",
    "if unity_of_electicty >200 and unity_of_electicty<300:\n",
    "    rem1=unity_of_electicty%200\n",
    "    amount3=100*4.5\n",
    "    amount4=100*6\n",
    "    amount5=rem1*10\n",
    "    total_amount2=amount3+amount4+amount5\n",
    "    print(total_amount2)\n",
    "if unity_of_electicty >300:\n",
    "    rem2=unity_of_electicty%300\n",
    "    amount6=100*4.5\n",
    "    amount7=100*6\n",
    "    amount8=100*10\n",
    "    amount9=rem2*20\n",
    "    amount10=amount6+amount7+amount8+amount9\n",
    "    print(\"Total Electricty bill: \", amount10)\n",
    "\n",
    "    \n",
    "    \n",
    "    "
   ]
  },
  {
   "cell_type": "code",
   "execution_count": 38,
   "id": "dc527323-e44a-40c7-a572-97cbb6b71716",
   "metadata": {},
   "outputs": [
    {
     "name": "stdout",
     "output_type": "stream",
     "text": [
      "Cube of number:  [0, 1, 8, 27, 64, 125, 216, 343, 512, 729, 1000, 1331, 1728, 2197, 2744, 3375, 4096, 4913, 5832, 6859, 8000, 9261, 10648, 12167, 13824, 15625, 17576, 19683, 21952, 24389, 27000, 29791, 32768, 35937, 39304, 42875, 46656, 50653, 54872, 59319, 64000, 68921, 74088, 79507, 85184, 91125, 97336, 103823, 110592, 117649, 125000, 132651, 140608, 148877, 157464, 166375, 175616, 185193, 195112, 205379, 216000, 226981, 238328, 250047, 262144, 274625, 287496, 300763, 314432, 328509, 343000, 357911, 373248, 389017, 405224, 421875, 438976, 456533, 474552, 493039, 512000, 531441, 551368, 571787, 592704, 614125, 636056, 658503, 681472, 704969, 729000, 753571, 778688, 804357, 830584, 857375, 884736, 912673, 941192, 970299]\n",
      "\n",
      "Number divided by 4 or 5:  [0, 1, 27, 125, 343, 729, 1000, 1331, 2197, 3375, 4913, 6859, 8000, 9261, 12167, 15625, 19683, 24389, 27000, 29791, 35937, 42875, 50653, 59319, 64000, 68921, 79507, 91125, 103823, 117649, 125000, 132651, 148877, 166375, 185193, 205379, 216000, 226981, 250047, 274625, 300763, 328509, 343000, 357911, 389017, 421875, 456533, 493039, 512000, 531441, 571787, 614125, 658503, 704969, 729000, 753571, 804357, 857375, 912673, 970299]\n"
     ]
    }
   ],
   "source": [
    "#4\n",
    "l1=list(range(100))\n",
    "l2=[]\n",
    "l3=[]\n",
    "for i in l1 :\n",
    "    l2.append(i**3)\n",
    "print(\"Cube of number: \",l2)\n",
    "for i in l2:\n",
    "    if i%4 or i%5 ==0:\n",
    "        l3.append(i)\n",
    "print(\"\\nNumber divided by 4 or 5: \",l3)\n",
    "\n",
    "    "
   ]
  },
  {
   "cell_type": "code",
   "execution_count": 43,
   "id": "dc025388-557e-42fb-b7d8-5e16c89033a6",
   "metadata": {},
   "outputs": [
    {
     "name": "stdout",
     "output_type": "stream",
     "text": [
      "Total vowel number found:  11\n"
     ]
    }
   ],
   "source": [
    "#5.\n",
    "string=\"I want to become data scientist\"\n",
    "count=0\n",
    "for i in string:\n",
    "    if i==\"a\" or i=='A' or i=='e' or i=='E' or i=='I' or i=='i' or i=='o' or i=='O' or i=='U' or i=='u':\n",
    "        count=count+1\n",
    "print(\"Total vowel number found: \",count)\n",
    "    \n"
   ]
  },
  {
   "cell_type": "code",
   "execution_count": null,
   "id": "b5af4bec-4582-4e3f-b274-adbd424ff436",
   "metadata": {},
   "outputs": [],
   "source": []
  },
  {
   "cell_type": "code",
   "execution_count": null,
   "id": "6c6d492f-b179-4f8b-86f4-f82303726852",
   "metadata": {},
   "outputs": [],
   "source": []
  }
 ],
 "metadata": {
  "kernelspec": {
   "display_name": "Python 3 (ipykernel)",
   "language": "python",
   "name": "python3"
  },
  "language_info": {
   "codemirror_mode": {
    "name": "ipython",
    "version": 3
   },
   "file_extension": ".py",
   "mimetype": "text/x-python",
   "name": "python",
   "nbconvert_exporter": "python",
   "pygments_lexer": "ipython3",
   "version": "3.10.8"
  }
 },
 "nbformat": 4,
 "nbformat_minor": 5
}
