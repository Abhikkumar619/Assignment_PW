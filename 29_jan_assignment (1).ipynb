{
 "cells": [
  {
   "cell_type": "code",
   "execution_count": null,
   "id": "4f9d76a3-2fbf-4016-b749-c8a0b48a9712",
   "metadata": {},
   "outputs": [],
   "source": [
    "#*****************  29 jan Assignment  **********************"
   ]
  },
  {
   "cell_type": "code",
   "execution_count": null,
   "id": "347b1ac5-12d1-4a62-84df-dae683ff9a50",
   "metadata": {},
   "outputs": [],
   "source": [
    "#1. Gudio van Rossum was developed python language in 1991."
   ]
  },
  {
   "cell_type": "code",
   "execution_count": null,
   "id": "a82826d9-ca0c-4e88-9482-7180f02dffef",
   "metadata": {},
   "outputs": [],
   "source": [
    "#2. Python support object oriented language."
   ]
  },
  {
   "cell_type": "code",
   "execution_count": null,
   "id": "7ba39b5a-78f0-466e-99eb-63e0e8647557",
   "metadata": {},
   "outputs": [],
   "source": [
    "#3. Yes python is insensitive language while dealing with identifier."
   ]
  },
  {
   "cell_type": "code",
   "execution_count": 3,
   "id": "4425a37c-6c4a-4657-aceb-d07462fef922",
   "metadata": {},
   "outputs": [],
   "source": [
    "\"\"\"\n",
    "Examle: \n",
    "a=2\n",
    "A=5\n",
    "\"\"\""
   ]
  },
  {
   "cell_type": "code",
   "execution_count": 2,
   "id": "63dd706c-b9b7-410d-8e50-bbe2ba859d5d",
   "metadata": {},
   "outputs": [
    {
     "data": {
      "text/plain": [
       "2"
      ]
     },
     "execution_count": 2,
     "metadata": {},
     "output_type": "execute_result"
    }
   ],
   "source": [
    "#a"
   ]
  },
  {
   "cell_type": "code",
   "execution_count": 4,
   "id": "555ec5d7-9567-4d33-ac5f-88d955aa6413",
   "metadata": {},
   "outputs": [
    {
     "data": {
      "text/plain": [
       "5"
      ]
     },
     "execution_count": 4,
     "metadata": {},
     "output_type": "execute_result"
    }
   ],
   "source": [
    "#A"
   ]
  },
  {
   "cell_type": "code",
   "execution_count": null,
   "id": "f8b8833b-919e-4cdc-8e2d-23fd2e1361a9",
   "metadata": {},
   "outputs": [],
   "source": [
    "#4. The correct extension of python file is .py."
   ]
  },
  {
   "cell_type": "code",
   "execution_count": null,
   "id": "8b9cd3a9-0ed1-455f-a4fb-097d44e1e845",
   "metadata": {},
   "outputs": [],
   "source": [
    "#5. Python code is iterpreted language which means the sourse code of python program is converted in bytecode that is executed by ython virtual machine."
   ]
  },
  {
   "cell_type": "code",
   "execution_count": null,
   "id": "cbcb057d-3034-4581-87d1-1d188e316e0c",
   "metadata": {},
   "outputs": [],
   "source": [
    "# 6. Function body , module , class name are the block of code used to define in programing language."
   ]
  },
  {
   "cell_type": "code",
   "execution_count": null,
   "id": "be2de325-c8fb-43a2-9979-7a6d65a3ad85",
   "metadata": {},
   "outputs": [],
   "source": [
    "# 7. '#' is used for single line comment in python language."
   ]
  },
  {
   "cell_type": "code",
   "execution_count": null,
   "id": "15c8ad98-46e0-4926-aa98-d84001e0720f",
   "metadata": {},
   "outputs": [],
   "source": [
    "# 8. python_version() is used to check python version."
   ]
  },
  {
   "cell_type": "code",
   "execution_count": null,
   "id": "679dcbd2-f180-4111-9116-854924295720",
   "metadata": {},
   "outputs": [],
   "source": [
    "# 9. Python support the creation of anonymous function at runtime, using a construct called lambda function."
   ]
  },
  {
   "cell_type": "code",
   "execution_count": null,
   "id": "61faae73-f37f-4c02-a1d4-7af3f8897a31",
   "metadata": {},
   "outputs": [],
   "source": [
    "# 10. pip stand for preferred intaller progream."
   ]
  },
  {
   "cell_type": "code",
   "execution_count": null,
   "id": "51457886-89af-408d-b883-a2c9a4617d4d",
   "metadata": {},
   "outputs": [],
   "source": [
    "# 11. print(), type(), list(), input(), sorted(). are the build in function in python program."
   ]
  },
  {
   "cell_type": "code",
   "execution_count": null,
   "id": "9879789d-ee81-4f7c-b0a5-5537e604db16",
   "metadata": {},
   "outputs": [],
   "source": [
    "# 12. Maximum possible length of identifier in python is 79 character."
   ]
  },
  {
   "cell_type": "code",
   "execution_count": null,
   "id": "8f94633c-47ee-43b4-abff-19606db3397a",
   "metadata": {},
   "outputs": [],
   "source": [
    "'''\n",
    "13.  advantage of pyhon. are: \n",
    "\n",
    "1.It has large developer community. and most popular language       world wide.\n",
    "2. Extensive libraries.\n",
    "3. write less do more.\n",
    "4. wide range od uses cases like data science , cybersecurity , statistics, back-end web development.\n",
    "'''"
   ]
  },
  {
   "cell_type": "code",
   "execution_count": null,
   "id": "9d2c5872-1659-40b6-a8e8-dcce1af232ad",
   "metadata": {},
   "outputs": [],
   "source": [
    "# 15. memory management in python invloves a rivate heap containing all python objects and data structure. "
   ]
  },
  {
   "cell_type": "code",
   "execution_count": null,
   "id": "cdacae22-327c-4781-a078-0c377a1a8a82",
   "metadata": {},
   "outputs": [],
   "source": [
    "# 16."
   ]
  },
  {
   "cell_type": "code",
   "execution_count": null,
   "id": "0bac048f-480f-492a-af06-9e592851b8eb",
   "metadata": {},
   "outputs": [],
   "source": [
    "# 17. Yes, indentaion is required in python to execute block of statement."
   ]
  }
 ],
 "metadata": {
  "kernelspec": {
   "display_name": "Python 3 (ipykernel)",
   "language": "python",
   "name": "python3"
  },
  "language_info": {
   "codemirror_mode": {
    "name": "ipython",
    "version": 3
   },
   "file_extension": ".py",
   "mimetype": "text/x-python",
   "name": "python",
   "nbconvert_exporter": "python",
   "pygments_lexer": "ipython3",
   "version": "3.10.8"
  }
 },
 "nbformat": 4,
 "nbformat_minor": 5
}
