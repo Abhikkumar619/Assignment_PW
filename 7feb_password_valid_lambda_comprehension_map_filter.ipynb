{
 "cells": [
  {
   "cell_type": "code",
   "execution_count": null,
   "id": "f989439b-c87d-461b-9c2d-4614c3d07250",
   "metadata": {},
   "outputs": [],
   "source": [
    "\"\"\"\n",
    "Q1. You are writing code for a company. The requirement of the company is that you create a python\n",
    "function that will check whether the password entered by the user is correct or not. The function should\n",
    "take the password as input and return the string “Valid Password” if the entered password follows the\n",
    "below-given password guidelines else it should return “Invalid Password”.\n",
    "Note:\n",
    "1. The Password should contain at least two uppercase letters and at least two lowercase letters.\n",
    "2. The Password should contain at least a number and three special characters.\n",
    "3. The length of the password should be 10 characters long.\n",
    "\"\"\"\n"
   ]
  },
  {
   "cell_type": "code",
   "execution_count": 3,
   "id": "911d1339-3004-42ca-aa50-b695c85c5a0a",
   "metadata": {},
   "outputs": [],
   "source": [
    "import re"
   ]
  },
  {
   "cell_type": "code",
   "execution_count": 34,
   "id": "37975cc6-1279-48ab-9277-73de286edbdc",
   "metadata": {},
   "outputs": [],
   "source": [
    "# password=input(\"Enter password\")\n",
    "\n",
    "def password_validation(password):\n",
    "    valid=0\n",
    "    if len(password)>10:\n",
    "        valid=valid+1\n",
    "    check=[]\n",
    "    for i in password:\n",
    "        if i.isupper():\n",
    "            check.append(i)\n",
    "    if len(check)>=2:\n",
    "        valid=valid+1\n",
    "    check2=[]\n",
    "    for j in password:\n",
    "        if j.islower():\n",
    "            check2.append(j)\n",
    "    if len(check2)>=2:\n",
    "        valid=valid+1\n",
    "    if valid==3:\n",
    "        print(\"password valid\")\n",
    "    else: \n",
    "        print(\"invalid password\\nplease fufill requriment: \")\n",
    "                \n",
    "    "
   ]
  },
  {
   "cell_type": "code",
   "execution_count": 35,
   "id": "c89bea22-32af-47a4-b7d6-1deffc1012e9",
   "metadata": {},
   "outputs": [],
   "source": [
    "password='AAABBBBbadlgadv'\n"
   ]
  },
  {
   "cell_type": "code",
   "execution_count": 36,
   "id": "4a0cdb2e-ea51-4eea-9002-a9c5888aeca3",
   "metadata": {},
   "outputs": [
    {
     "name": "stdout",
     "output_type": "stream",
     "text": [
      "password valid\n"
     ]
    }
   ],
   "source": [
    "password_validation(password)"
   ]
  },
  {
   "cell_type": "code",
   "execution_count": 38,
   "id": "8b009b62-b523-47fc-82f4-a92ffc65bd0f",
   "metadata": {},
   "outputs": [],
   "source": [
    "password='Abcfa'"
   ]
  },
  {
   "cell_type": "code",
   "execution_count": 39,
   "id": "647f424d-6af5-45ad-8459-c2fc7d37eb3a",
   "metadata": {},
   "outputs": [
    {
     "name": "stdout",
     "output_type": "stream",
     "text": [
      "invalid password\n",
      "please fufill requriment: \n"
     ]
    }
   ],
   "source": [
    "password_validation(password)"
   ]
  },
  {
   "cell_type": "code",
   "execution_count": null,
   "id": "53fbe63a-c15c-4b97-94f1-6f56b07d09bd",
   "metadata": {},
   "outputs": [],
   "source": [
    "\"\"\"\n",
    "Q2. Solve the below-given questions using at least one of the following:\n",
    "1. Lambda functioJ\n",
    "2. Filter functioJ\n",
    "3. Map functioJ\n",
    "4. List ComprehensioI\n",
    "B Check if the string starts with a particular letterY\n",
    "B Check if the string is numericY\n",
    "B Sort a list of tuples having fruit names and their quantity. [(\"mango\",99),(\"orange\",80), (\"grapes\", 1000)-\n",
    "B Find the squares of numbers from 1 to 10Y\n",
    "B Find the cube root of numbers from 1 to 10Y\n",
    "B Check if a given number is evenY\n",
    "B Filter odd numbers from the given list.\n",
    "[1,2,3,4,5,6,7,8,9,10-\n",
    "B Sort a list of integers into positive and negative integers lists.\n",
    "[1,2,3,4,5,6,-1,-2,-3,-4,-5,0]\n",
    "\"\"\""
   ]
  },
  {
   "cell_type": "code",
   "execution_count": 112,
   "id": "49c473b3-b4b2-4ef8-ba38-dab1bcc7598b",
   "metadata": {},
   "outputs": [
    {
     "name": "stdout",
     "output_type": "stream",
     "text": [
      "True\n"
     ]
    }
   ],
   "source": [
    " # Check if the string starts with a particular letterY\n",
    "start_particular=lambda x: True if x.startswith(\"A\") else False\n",
    "print(start_particular(\"Abishek\"))"
   ]
  },
  {
   "cell_type": "code",
   "execution_count": 116,
   "id": "61a5f44c-76ff-4f9d-933e-daa3dd2fbd94",
   "metadata": {},
   "outputs": [
    {
     "data": {
      "text/plain": [
       "True"
      ]
     },
     "execution_count": 116,
     "metadata": {},
     "output_type": "execute_result"
    }
   ],
   "source": [
    "# B Check if the string is numericY\n",
    "start_numeric=lambda x :True if x.isnumeric() else False \n",
    "start_numeric(\"\\u0030\")\n"
   ]
  },
  {
   "cell_type": "code",
   "execution_count": 76,
   "id": "24540b6d-053d-4763-ac85-173c6f233d71",
   "metadata": {},
   "outputs": [
    {
     "data": {
      "text/plain": [
       "[1, 3, 5, 7, 9]"
      ]
     },
     "execution_count": 76,
     "metadata": {},
     "output_type": "execute_result"
    }
   ],
   "source": [
    "# B Filter odd numbers from the given list.\n",
    "l1= [1,2,3,4,5,6,7,8,9,10]\n",
    "list(filter(lambda x:  x%2 !=0 ,l1))\n"
   ]
  },
  {
   "cell_type": "code",
   "execution_count": 80,
   "id": "ae9a890b-ee14-4e5c-a700-8fa15e37c63c",
   "metadata": {},
   "outputs": [
    {
     "data": {
      "text/plain": [
       "[-1, -2, -3, -4, -5]"
      ]
     },
     "execution_count": 80,
     "metadata": {},
     "output_type": "execute_result"
    }
   ],
   "source": [
    "# B Sort a list of integers into positive and negative integers lists.\n",
    "l2=[1,2,3,4,5,6,-1,-2,-3,-4,-5,0]\n",
    "list(filter(lambda x: x<0 , l2))"
   ]
  },
  {
   "cell_type": "code",
   "execution_count": 98,
   "id": "6e86f336-a15a-40a5-a129-824a01b69f9b",
   "metadata": {},
   "outputs": [
    {
     "data": {
      "text/plain": [
       "[1, 8, 27, 64, 125, 216, 343, 512, 729]"
      ]
     },
     "execution_count": 98,
     "metadata": {},
     "output_type": "execute_result"
    }
   ],
   "source": [
    "# B Find the squares of numbers from 1 to 10Y\n",
    "a=list(range(1,10))\n",
    "[i**3 for i in a]\n"
   ]
  },
  {
   "cell_type": "code",
   "execution_count": 99,
   "id": "4f3b33ad-22b9-4e16-9a61-87c6f9f0a4b7",
   "metadata": {},
   "outputs": [
    {
     "data": {
      "text/plain": [
       "[1, 4, 9, 16, 25, 36, 49, 64, 81]"
      ]
     },
     "execution_count": 99,
     "metadata": {},
     "output_type": "execute_result"
    }
   ],
   "source": [
    "# B Find the squares of numbers from 1 to 10Ya=list(range(1,10))\n",
    "[i**2 for i in a]\n"
   ]
  },
  {
   "cell_type": "code",
   "execution_count": null,
   "id": "55fce419-96ca-4b5c-b68c-e5f29f29abe3",
   "metadata": {},
   "outputs": [],
   "source": []
  },
  {
   "cell_type": "code",
   "execution_count": 104,
   "id": "1b3d8099-524c-4f3e-a09a-4809a80a1795",
   "metadata": {},
   "outputs": [
    {
     "name": "stdout",
     "output_type": "stream",
     "text": [
      "[('grapes', 1000), ('mango', 99), ('orange', 80)]\n"
     ]
    }
   ],
   "source": [
    "# B Sort a list of tuples having fruit names and their quantity. [(\"mango\",99),(\"orange\",80), (\"grapes\", 1000)-\n",
    "fruits= [(\"mango\",99),(\"orange\",80), (\"grapes\", 1000)]\n",
    "# ak=sorted(fruits)\n",
    "sh=lambda x: x.sort()\n",
    "sh(fruits)\n",
    "print(fruits)\n",
    "    "
   ]
  },
  {
   "cell_type": "code",
   "execution_count": null,
   "id": "c6f51f63-ed04-41a9-a41c-12a6b302a567",
   "metadata": {},
   "outputs": [],
   "source": []
  },
  {
   "cell_type": "code",
   "execution_count": null,
   "id": "426c025a-9d42-4e37-9dec-d2d2b27652ec",
   "metadata": {},
   "outputs": [],
   "source": []
  },
  {
   "cell_type": "code",
   "execution_count": null,
   "id": "b0e88de4-3bdf-46da-b771-86d269a4423e",
   "metadata": {},
   "outputs": [],
   "source": []
  },
  {
   "cell_type": "code",
   "execution_count": null,
   "id": "a952a30e-19f2-47b5-bcd6-75c253ec24e6",
   "metadata": {},
   "outputs": [],
   "source": []
  },
  {
   "cell_type": "code",
   "execution_count": null,
   "id": "3658f872-06cf-4d70-9695-f890eaec7ea3",
   "metadata": {},
   "outputs": [],
   "source": []
  }
 ],
 "metadata": {
  "kernelspec": {
   "display_name": "Python 3 (ipykernel)",
   "language": "python",
   "name": "python3"
  },
  "language_info": {
   "codemirror_mode": {
    "name": "ipython",
    "version": 3
   },
   "file_extension": ".py",
   "mimetype": "text/x-python",
   "name": "python",
   "nbconvert_exporter": "python",
   "pygments_lexer": "ipython3",
   "version": "3.10.8"
  }
 },
 "nbformat": 4,
 "nbformat_minor": 5
}
