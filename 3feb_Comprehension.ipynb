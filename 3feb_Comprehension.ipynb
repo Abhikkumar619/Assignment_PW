{
 "cells": [
  {
   "cell_type": "code",
   "execution_count": 1,
   "id": "f6a6998a-1c03-4420-91e0-4c4efe647c3c",
   "metadata": {},
   "outputs": [],
   "source": [
    "#1. Def keyword is used to create function.\n",
    "def list_odd():\n",
    "    l1=list(range(1,25,2))\n",
    "    return l1\n",
    "    "
   ]
  },
  {
   "cell_type": "code",
   "execution_count": 2,
   "id": "57910d06-d3a6-46cd-a68b-0f2fd1d454a2",
   "metadata": {},
   "outputs": [
    {
     "data": {
      "text/plain": [
       "[1, 3, 5, 7, 9, 11, 13, 15, 17, 19, 21, 23]"
      ]
     },
     "execution_count": 2,
     "metadata": {},
     "output_type": "execute_result"
    }
   ],
   "source": [
    "list_odd()"
   ]
  },
  {
   "cell_type": "code",
   "execution_count": 4,
   "id": "7e498c34-3ffe-495b-8cc1-73610b1492b7",
   "metadata": {},
   "outputs": [],
   "source": [
    "# 2\n",
    "\n",
    "#  *args: it is used to pass number of argument in the function as we want.\n",
    " \n",
    "def number_of_argument(*args):\n",
    "    return args\n",
    "\n",
    "# **kwargs : it is used to pass assign value as argument and finally converted into key and value.\n",
    "def number_kwargs(**kwargs):\n",
    "    return kwargs"
   ]
  },
  {
   "cell_type": "code",
   "execution_count": 5,
   "id": "3d44895e-3c3e-4ad8-a7b1-64697d3f48c5",
   "metadata": {},
   "outputs": [
    {
     "data": {
      "text/plain": [
       "(1, 3, 5, 6, 6)"
      ]
     },
     "execution_count": 5,
     "metadata": {},
     "output_type": "execute_result"
    }
   ],
   "source": [
    "number_of_argument(1,3,5,6,6)"
   ]
  },
  {
   "cell_type": "code",
   "execution_count": 6,
   "id": "643d8c3a-9187-4fdc-865b-084b2c40dda8",
   "metadata": {},
   "outputs": [
    {
     "data": {
      "text/plain": [
       "{'a': 4, 'b': 'abhik'}"
      ]
     },
     "execution_count": 6,
     "metadata": {},
     "output_type": "execute_result"
    }
   ],
   "source": [
    "number_kwargs(a=4, b='abhik')"
   ]
  },
  {
   "cell_type": "code",
   "execution_count": 7,
   "id": "0e8f0232-0602-4700-9d2b-b3be8eb1d475",
   "metadata": {},
   "outputs": [],
   "source": [
    "# 3.\n",
    " \n",
    " # Iterator : it is an object that can traverse through all the values\n",
    "    # iter() : MEthod used for the initialise the iterator object.\n",
    "    # next(): method used for the iteration.\n",
    "\n",
    "\n",
    "a=[2,4,6,8,10,12,14,16,18,10]"
   ]
  },
  {
   "cell_type": "code",
   "execution_count": 8,
   "id": "28bf4382-fa6c-4773-955e-f06530ad6d19",
   "metadata": {},
   "outputs": [],
   "source": [
    "a1=iter(a)"
   ]
  },
  {
   "cell_type": "code",
   "execution_count": 9,
   "id": "073333e4-0d8a-4e87-8bd0-88b8917461c4",
   "metadata": {},
   "outputs": [
    {
     "name": "stdout",
     "output_type": "stream",
     "text": [
      "4\n",
      "8\n",
      "12\n",
      "16\n",
      "10\n"
     ]
    }
   ],
   "source": [
    "for i in a1:\n",
    "    print(next(a1))"
   ]
  },
  {
   "cell_type": "code",
   "execution_count": null,
   "id": "94f731f5-15f6-4028-a544-4f7898cc79f7",
   "metadata": {},
   "outputs": [],
   "source": [
    "# 4.\n",
    "''' Generator function in python that function which produce a sequence of value when iterator over.\n",
    "basically useful when we want to produce a large sequence of value but dont want to store all \n",
    "of them inin memory a onces.\n",
    " \n",
    "yield keyword is used to prouce a value from the generator.'''\n",
    " \n"
   ]
  },
  {
   "cell_type": "code",
   "execution_count": 15,
   "id": "e3441367-cf70-4c8f-8359-1de88b71ea58",
   "metadata": {},
   "outputs": [],
   "source": [
    "def my_generator(n):\n",
    "    value=0\n",
    "    while value<n:\n",
    "        yield value\n",
    "        value = value+1\n",
    "        "
   ]
  },
  {
   "cell_type": "code",
   "execution_count": 18,
   "id": "4187e7f1-446d-46ae-a8e7-b1c134660b5f",
   "metadata": {},
   "outputs": [
    {
     "name": "stdout",
     "output_type": "stream",
     "text": [
      "0\n",
      "1\n",
      "2\n",
      "3\n"
     ]
    }
   ],
   "source": [
    "for i in my_generator(4):\n",
    "    print(i)"
   ]
  },
  {
   "cell_type": "code",
   "execution_count": null,
   "id": "2b437344-f265-4b72-a628-9fbd53a56f8b",
   "metadata": {},
   "outputs": [],
   "source": [
    "# 5\n"
   ]
  },
  {
   "cell_type": "code",
   "execution_count": 20,
   "id": "1b36bd96-dc2f-4951-87d2-b0c6668d5682",
   "metadata": {},
   "outputs": [
    {
     "name": "stdout",
     "output_type": "stream",
     "text": [
      "0\n",
      "1\n",
      "1\n",
      "2\n",
      "3\n",
      "5\n",
      "8\n",
      "13\n",
      "21\n",
      "34\n",
      "55\n"
     ]
    }
   ],
   "source": [
    "# 6\n",
    "a=0\n",
    "b=1\n",
    "count=0\n",
    "while count<=10:\n",
    "    print(a)\n",
    "    c=a+b\n",
    "    a=b\n",
    "    b=c\n",
    "    count=count+1"
   ]
  },
  {
   "cell_type": "code",
   "execution_count": 21,
   "id": "e6956213-73af-4989-82c1-2b3e5df69106",
   "metadata": {},
   "outputs": [],
   "source": [
    "# 7\n",
    "pw=\"pwskils\""
   ]
  },
  {
   "cell_type": "code",
   "execution_count": 22,
   "id": "88feb302-b697-4908-8deb-b07ad91c0c04",
   "metadata": {},
   "outputs": [
    {
     "data": {
      "text/plain": [
       "['p', 'w', 's', 'k', 'i', 'l', 's']"
      ]
     },
     "execution_count": 22,
     "metadata": {},
     "output_type": "execute_result"
    }
   ],
   "source": [
    "[i for i in pw]"
   ]
  },
  {
   "cell_type": "code",
   "execution_count": 36,
   "id": "6d9485bf-f85b-4cf8-bcc9-8d535b322c6f",
   "metadata": {},
   "outputs": [
    {
     "name": "stdin",
     "output_type": "stream",
     "text": [
      "Enter number 747\n"
     ]
    },
    {
     "name": "stdout",
     "output_type": "stream",
     "text": [
      "number is palindrome number\n"
     ]
    }
   ],
   "source": [
    "# 8\n",
    "number=int(input(\"Enter number\"))\n",
    "temp=number\n",
    "rev=0\n",
    "while number>0:\n",
    "    rem=number%10\n",
    "    rev=rev*10+rem\n",
    "    number=number//10\n",
    "\n",
    "if (temp==rev):\n",
    "    print(\"number is palindrome number\")\n",
    "else: \n",
    "    print(\"Not palindrome\")"
   ]
  },
  {
   "cell_type": "code",
   "execution_count": 41,
   "id": "dc6c28a5-58b3-49e5-8bbf-5b4136519359",
   "metadata": {},
   "outputs": [],
   "source": [
    "# 9.\n",
    "l1=[i for i in range(1,100)]"
   ]
  },
  {
   "cell_type": "code",
   "execution_count": 45,
   "id": "33e9bcaa-3289-4b93-adde-df2944b58b8f",
   "metadata": {},
   "outputs": [],
   "source": [
    "l2=[i for i in l1 if i%2!=0 ]"
   ]
  },
  {
   "cell_type": "code",
   "execution_count": 46,
   "id": "93b80d24-ccda-4677-bea7-46d1405f134e",
   "metadata": {},
   "outputs": [
    {
     "data": {
      "text/plain": [
       "[1,\n",
       " 3,\n",
       " 5,\n",
       " 7,\n",
       " 9,\n",
       " 11,\n",
       " 13,\n",
       " 15,\n",
       " 17,\n",
       " 19,\n",
       " 21,\n",
       " 23,\n",
       " 25,\n",
       " 27,\n",
       " 29,\n",
       " 31,\n",
       " 33,\n",
       " 35,\n",
       " 37,\n",
       " 39,\n",
       " 41,\n",
       " 43,\n",
       " 45,\n",
       " 47,\n",
       " 49,\n",
       " 51,\n",
       " 53,\n",
       " 55,\n",
       " 57,\n",
       " 59,\n",
       " 61,\n",
       " 63,\n",
       " 65,\n",
       " 67,\n",
       " 69,\n",
       " 71,\n",
       " 73,\n",
       " 75,\n",
       " 77,\n",
       " 79,\n",
       " 81,\n",
       " 83,\n",
       " 85,\n",
       " 87,\n",
       " 89,\n",
       " 91,\n",
       " 93,\n",
       " 95,\n",
       " 97,\n",
       " 99]"
      ]
     },
     "execution_count": 46,
     "metadata": {},
     "output_type": "execute_result"
    }
   ],
   "source": [
    "l2"
   ]
  },
  {
   "cell_type": "code",
   "execution_count": null,
   "id": "806c06b3-263f-4475-936f-ee67df9dc292",
   "metadata": {},
   "outputs": [],
   "source": []
  },
  {
   "cell_type": "code",
   "execution_count": null,
   "id": "3ca59936-3baa-4477-bc23-6b78b384a4f6",
   "metadata": {},
   "outputs": [],
   "source": []
  },
  {
   "cell_type": "code",
   "execution_count": null,
   "id": "3cd9d6e3-d598-4787-9e59-00411eff7a3c",
   "metadata": {},
   "outputs": [],
   "source": []
  },
  {
   "cell_type": "code",
   "execution_count": null,
   "id": "93b7c611-fb10-4dd7-ab29-7ad1f5d82707",
   "metadata": {},
   "outputs": [],
   "source": []
  }
 ],
 "metadata": {
  "kernelspec": {
   "display_name": "Python 3 (ipykernel)",
   "language": "python",
   "name": "python3"
  },
  "language_info": {
   "codemirror_mode": {
    "name": "ipython",
    "version": 3
   },
   "file_extension": ".py",
   "mimetype": "text/x-python",
   "name": "python",
   "nbconvert_exporter": "python",
   "pygments_lexer": "ipython3",
   "version": "3.10.8"
  }
 },
 "nbformat": 4,
 "nbformat_minor": 5
}
