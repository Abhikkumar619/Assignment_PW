{
 "cells": [
  {
   "cell_type": "code",
   "execution_count": 1,
   "id": "a4c18a19-cfba-45e4-8bcd-61a8544a223e",
   "metadata": {},
   "outputs": [],
   "source": [
    "# Q1. \n",
    "\"\"\" Explain Class and Object with respect to Object-Oriented Programming. Give a suitable example.\n",
    "\n",
    "Class: it is a classification on real world entity or blue print of real world enity.\n",
    "        which include both class variable and method to perform task.\"\"\"\n",
    "class student:\n",
    "    pass\n",
    "\"\"\"\n",
    "object: It is instance of class called object. which occupied space in memory. \n",
    "we can create object of class by:\"\"\"\n",
    "st=student() # st is object of class student we can access class variable and method from class.\n",
    "\n"
   ]
  },
  {
   "cell_type": "code",
   "execution_count": null,
   "id": "447d0d74-6f29-4ccc-bd61-8ad6bc4b6bd6",
   "metadata": {},
   "outputs": [],
   "source": [
    "'''\n",
    "Q2. Name the four pillars of OOPs.\n",
    "Ans: The Four pillers of OOPs are: \n",
    "1. Abstraction.\n",
    "2. encapulation.\n",
    "3. polymorphism\n",
    "4. Inheritance\n",
    "'''"
   ]
  },
  {
   "cell_type": "code",
   "execution_count": 9,
   "id": "d7408297-74f8-4728-8f7a-f572e57ff741",
   "metadata": {},
   "outputs": [],
   "source": [
    "# Q3. Explain why the __init__() function is used. Give a suitable example.\n",
    "\"\"\"\n",
    "Ans: Basically, __init__ function  is constructor used to instalize the object. it is automatically invoke \n",
    "     when we create object of class. \"\"\"\n",
    "# Example:\n",
    "class student:\n",
    "    def __init__(self, name, roll, school):\n",
    "        self.name=name\n",
    "        self.roll=roll\n",
    "        self.school=school\n",
    "\n"
   ]
  },
  {
   "cell_type": "code",
   "execution_count": 10,
   "id": "d9b2bdf8-78f7-4b77-9234-5d9d6f60b9eb",
   "metadata": {},
   "outputs": [],
   "source": [
    "sts=student(\"abishek\",1,\"mithila vidya mandir\")"
   ]
  },
  {
   "cell_type": "code",
   "execution_count": 11,
   "id": "5143e60f-c564-4485-86be-89bbe7cfc6d2",
   "metadata": {},
   "outputs": [
    {
     "data": {
      "text/plain": [
       "'mithila vidya mandir'"
      ]
     },
     "execution_count": 11,
     "metadata": {},
     "output_type": "execute_result"
    }
   ],
   "source": [
    "\n",
    "sts.school"
   ]
  },
  {
   "cell_type": "code",
   "execution_count": 12,
   "id": "6c2536c3-12b0-49f6-9e86-3ea502e2d812",
   "metadata": {},
   "outputs": [
    {
     "data": {
      "text/plain": [
       "'abishek'"
      ]
     },
     "execution_count": 12,
     "metadata": {},
     "output_type": "execute_result"
    }
   ],
   "source": [
    "sts.name"
   ]
  },
  {
   "cell_type": "code",
   "execution_count": 13,
   "id": "138c6f54-5e53-4a51-82c9-bbaa466cff09",
   "metadata": {},
   "outputs": [
    {
     "data": {
      "text/plain": [
       "1"
      ]
     },
     "execution_count": 13,
     "metadata": {},
     "output_type": "execute_result"
    }
   ],
   "source": [
    "sts.roll\n"
   ]
  },
  {
   "cell_type": "code",
   "execution_count": 14,
   "id": "055675e0-0d91-42c1-a486-e0e556ecc61a",
   "metadata": {},
   "outputs": [],
   "source": [
    "\"\"\"\n",
    "Q4. Why self is used in OOPs?\n",
    "Ans: Slef is used in oops basically it is used in function as first vaiable and helps python program to \n",
    "     know the function is associated with class. we can use any variable name in place of self.\n",
    "Example: \"\"\"\n",
    "class student:\n",
    "    def student_details(self, name, school):\n",
    "        self.name=name\n",
    "        self.school=school\n",
    "        \n"
   ]
  },
  {
   "cell_type": "code",
   "execution_count": 15,
   "id": "24b9640c-2358-4595-b70c-21b792e9646f",
   "metadata": {},
   "outputs": [],
   "source": [
    "st=student()"
   ]
  },
  {
   "cell_type": "code",
   "execution_count": 16,
   "id": "74c2e07f-146d-45e1-a726-145ec1dfc563",
   "metadata": {},
   "outputs": [],
   "source": [
    "st.student_details(\"abishek\",\"mithila vidya mandir\")"
   ]
  },
  {
   "cell_type": "code",
   "execution_count": 17,
   "id": "dbe60a87-52ff-48f8-abe7-4af923f698f2",
   "metadata": {},
   "outputs": [
    {
     "data": {
      "text/plain": [
       "'abishek'"
      ]
     },
     "execution_count": 17,
     "metadata": {},
     "output_type": "execute_result"
    }
   ],
   "source": [
    "st.name"
   ]
  },
  {
   "cell_type": "code",
   "execution_count": 18,
   "id": "1200d345-dc8d-42a8-a585-87f6973aa84e",
   "metadata": {},
   "outputs": [
    {
     "data": {
      "text/plain": [
       "'mithila vidya mandir'"
      ]
     },
     "execution_count": 18,
     "metadata": {},
     "output_type": "execute_result"
    }
   ],
   "source": [
    "st.school"
   ]
  },
  {
   "cell_type": "code",
   "execution_count": 19,
   "id": "0d7f6142-3968-410a-b4b6-0e329893eca6",
   "metadata": {},
   "outputs": [],
   "source": [
    "\"\"\"\n",
    "Q5. What is inheritance? Give an example for each type of inheritance.\n",
    "Ans: it is define as the deriving a new class from existing class is called inheritance.\n",
    "Types od inheritance are:\n",
    "1. single inheritance.\n",
    "2. mutilevel inheritance.\n",
    "3. multiple inheritance.\n",
    "Example: \"\"\"\n",
    "class teacher:\n",
    "    def teacher_details(self, name, sub):\n",
    "        self.name=name\n",
    "        self.sub=sub\n"
   ]
  },
  {
   "cell_type": "code",
   "execution_count": 20,
   "id": "86b5485e-bd3f-49e9-9f72-5619cb2d2291",
   "metadata": {},
   "outputs": [],
   "source": [
    "class student(teacher):\n",
    "    def student_details(self, name, subject):\n",
    "        self.name=name\n",
    "        self.subject=subject\n",
    "        "
   ]
  },
  {
   "cell_type": "code",
   "execution_count": 21,
   "id": "b1911a40-21f5-4c6f-9a5a-6f17062f2325",
   "metadata": {},
   "outputs": [],
   "source": [
    "st1=student()"
   ]
  },
  {
   "cell_type": "code",
   "execution_count": 22,
   "id": "94432753-0dbc-49cd-9e86-a6a6fcc58251",
   "metadata": {},
   "outputs": [],
   "source": [
    "st1.teacher_details(\"rampal sir\", \"science\")"
   ]
  },
  {
   "cell_type": "code",
   "execution_count": 23,
   "id": "84ca854d-be7c-47b9-a081-8a255b9b33a4",
   "metadata": {},
   "outputs": [],
   "source": [
    "st1.student_details(\"abishek\",\"data science\")"
   ]
  },
  {
   "cell_type": "code",
   "execution_count": null,
   "id": "15c1bdd9-731b-4e8c-8be2-4671544c5094",
   "metadata": {},
   "outputs": [],
   "source": []
  }
 ],
 "metadata": {
  "kernelspec": {
   "display_name": "Python 3 (ipykernel)",
   "language": "python",
   "name": "python3"
  },
  "language_info": {
   "codemirror_mode": {
    "name": "ipython",
    "version": 3
   },
   "file_extension": ".py",
   "mimetype": "text/x-python",
   "name": "python",
   "nbconvert_exporter": "python",
   "pygments_lexer": "ipython3",
   "version": "3.10.8"
  }
 },
 "nbformat": 4,
 "nbformat_minor": 5
}
