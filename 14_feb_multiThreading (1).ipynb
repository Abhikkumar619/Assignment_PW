{
 "cells": [
  {
   "cell_type": "code",
   "execution_count": null,
   "id": "f8d0fef5-deb3-4ae8-96e7-9c40176e9ac2",
   "metadata": {},
   "outputs": [],
   "source": [
    "\"\"\"\n",
    "1. what is multithreading in python? why is it used? Name the module used to handle threads in python?\n",
    "\n",
    "Ans: threading is just one of many way concurrent program can be buit-in processor.\n",
    "     The ability of a processor to execute multiple threads concurrently.\n",
    "     \n",
    "     It is used because a multiple threaded program contain two or more parts\n",
    "     can handle a different task at the same time making optimal use of available resources specially when \n",
    "     yout compter has multiple cPu.\n",
    "     \n",
    "     \"Import threading\" module  is used to handle threads in python.\n",
    "     "
   ]
  },
  {
   "cell_type": "code",
   "execution_count": null,
   "id": "42b9202f-7841-4e5a-bf40-3dbb21ce408a",
   "metadata": {},
   "outputs": [],
   "source": [
    "\"\"\"\n",
    "2.why threading module used? write the use of the following functions\n",
    " activeCount()\n",
    " currentThread()\n",
    " enumerate()\n",
    " \n",
    " Ans: multithreading module is used because multiple threds within a process share the same data sapce with the main thread and can\n",
    "      therefore share inforamtion or communiate with each other more easiy than if they sapareate processes.\n",
    "      \n",
    " 1. threading.activeCount(): reutrn the number of thread that are active.\n",
    " 2. threading.currentThread(): return the number object in the caller's theread control.\n",
    " 3. threading.enumerate(): return a list of all thread objects that are currently active."
   ]
  },
  {
   "cell_type": "code",
   "execution_count": null,
   "id": "32cc66c4-b2db-4686-928c-6ed333e13a33",
   "metadata": {},
   "outputs": [],
   "source": [
    "\"\"\"\n",
    "3. Explain the following functions\n",
    "1.run()\n",
    "2.start()\n",
    "3.join()\n",
    "4.isAlive()\n",
    "\n",
    "Ans: \n",
    "1. run() : It is the entty point for thread.\n",
    "2. start() : we can start a thread by calling the start method.\n",
    "3. join() :  terminate the thread and dispaly result.\n",
    "4. isAlive() : this method check thread is still executing.\n"
   ]
  },
  {
   "cell_type": "code",
   "execution_count": 1,
   "id": "e0e62e9c-eb54-4bc0-ac06-0e9cd83a1810",
   "metadata": {},
   "outputs": [],
   "source": [
    "\n",
    "# 4. write a python program to create two threads. Thread one must print the list of squares and thread\n",
    "# two must print the list of cubes.\n",
    " "
   ]
  },
  {
   "cell_type": "code",
   "execution_count": 3,
   "id": "77b1af77-a2a8-4971-9824-03102dd75e7c",
   "metadata": {},
   "outputs": [],
   "source": [
    "import threading"
   ]
  },
  {
   "cell_type": "code",
   "execution_count": 46,
   "id": "d48c7d3d-188b-48ea-8dd8-c18f67aecd13",
   "metadata": {},
   "outputs": [],
   "source": [
    "def squre(n):\n",
    "    print(n**2)\n"
   ]
  },
  {
   "cell_type": "code",
   "execution_count": 55,
   "id": "a464aec8-dc61-40ce-a8dd-201346f5bc99",
   "metadata": {},
   "outputs": [],
   "source": [
    "def cube(m):\n",
    "    print(m**3)"
   ]
  },
  {
   "cell_type": "code",
   "execution_count": null,
   "id": "3f94caac-8d98-49d5-86ad-9032cd7f2c1b",
   "metadata": {},
   "outputs": [],
   "source": []
  },
  {
   "cell_type": "code",
   "execution_count": null,
   "id": "b6907eba-be0d-4fea-a395-e57be2ee7d95",
   "metadata": {},
   "outputs": [],
   "source": []
  },
  {
   "cell_type": "code",
   "execution_count": 47,
   "id": "89b4e133-19f7-4ecc-b823-c24cbdd27786",
   "metadata": {},
   "outputs": [],
   "source": [
    "thread1=[threading.Thread(target=squre, args=(i,)) for i in range(10)]"
   ]
  },
  {
   "cell_type": "code",
   "execution_count": 48,
   "id": "25132aca-bac0-43da-a14d-48c4b2bc9f91",
   "metadata": {},
   "outputs": [
    {
     "name": "stdout",
     "output_type": "stream",
     "text": [
      "0\n",
      "1\n",
      "4\n",
      "9\n",
      "16\n",
      "25\n",
      "36\n",
      "49\n",
      "64\n",
      "81\n"
     ]
    }
   ],
   "source": [
    "for t in thread1:\n",
    "    t.start()"
   ]
  },
  {
   "cell_type": "code",
   "execution_count": 56,
   "id": "dd9b2f9d-dcf6-43e4-9fcd-81e694e759a0",
   "metadata": {},
   "outputs": [],
   "source": [
    "thread2=[threading.Thread(target=cube, args=(i,)) for i in range(10)]"
   ]
  },
  {
   "cell_type": "code",
   "execution_count": 57,
   "id": "78305c0e-4703-47d9-878d-181775cb4a92",
   "metadata": {},
   "outputs": [
    {
     "name": "stdout",
     "output_type": "stream",
     "text": [
      "0\n",
      "1\n",
      "8\n",
      "27\n",
      "64\n",
      "125\n",
      "216\n",
      "343\n",
      "512\n",
      "729\n"
     ]
    }
   ],
   "source": [
    "for t1 in thread2:\n",
    "    t1.start()"
   ]
  },
  {
   "cell_type": "code",
   "execution_count": null,
   "id": "d760f9c8-1a03-4832-abf3-745d5f7bdc23",
   "metadata": {},
   "outputs": [],
   "source": [
    "\"\"\"\n",
    "5. State advantages and disadvantages of multithreading.\n",
    "Ans: \n",
    "\n",
    "Advantage: \n",
    "1.They will use less memory overhead and lightweight processes\n",
    "2. multihtreading will allow a program to remain responsive while one thread \n",
    "   wait for input and another runs a GUI at the same time.\n",
    "3. The thread of process have access to its globel variable of a globel varibale \n",
    "    change in one thread.\n",
    "\n",
    "Disadvantage: \n",
    "1. The single processor system multithreading won't hit the speed computation.\n",
    "2. The performance may downfrade because of managing threads.\n",
    "3. It also increases the complexity of program dor making it difficult to debug."
   ]
  },
  {
   "cell_type": "code",
   "execution_count": null,
   "id": "b0338543-28fe-4777-8781-1da958144f56",
   "metadata": {},
   "outputs": [],
   "source": [
    "\"\"\"\n",
    "6. Explain deadlocks and race conditions.\n",
    "a. Deadlocks.\n",
    "When two processes are waiting for each other directly and indireclty, it is called deadlock.\n",
    "This usually occurs when two processes are waiting for shared resources required by others, \n",
    "if thread t1 acquired resource R1 and it also needs resource r2 for it to accomlish its task.\n",
    "but the resource r2 is acquired by hread T2 which is waiting for resources r1 . nither of then will be \n",
    "able to accomplish its task.\n",
    "\n",
    "b. rece condition.\n",
    "When two processes are competing each ther causing data corruption.\n",
    "Example: \n",
    "if two processes are trying to execute the following condition simultaneously, \n",
    "that cause data corruption.\n",
    "\n",
    "thread1 :\n",
    "total =num1+num2\n",
    "\n",
    "thread2: \n",
    "total = num1-num2\n"
   ]
  }
 ],
 "metadata": {
  "kernelspec": {
   "display_name": "Python 3 (ipykernel)",
   "language": "python",
   "name": "python3"
  },
  "language_info": {
   "codemirror_mode": {
    "name": "ipython",
    "version": 3
   },
   "file_extension": ".py",
   "mimetype": "text/x-python",
   "name": "python",
   "nbconvert_exporter": "python",
   "pygments_lexer": "ipython3",
   "version": "3.10.8"
  }
 },
 "nbformat": 4,
 "nbformat_minor": 5
}
