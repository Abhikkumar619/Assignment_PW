{
 "cells": [
  {
   "cell_type": "code",
   "execution_count": null,
   "id": "20112572-91f4-40f7-8d65-4837ec13850c",
   "metadata": {},
   "outputs": [],
   "source": [
    "\"\"\"\n",
    "Q1. What is an API? Give an example, where an API is used in real life.\n",
    "\n",
    "Ans: API(application programming interface), facilites to communicate between two pieces \n",
    "     of software. it let you to retrive and send data using code.\n",
    "     \n",
    "     Example: google, two software that is browser and server are communicating each other.\n",
    "     \n",
    "     API used in reallife: web application use API to connect user-facing\n",
    "     front-end with all-important back end functionality and data.\n",
    "\n",
    "\"\"\""
   ]
  },
  {
   "cell_type": "code",
   "execution_count": null,
   "id": "111deb02-281c-47c6-92b7-4f6726f3e19f",
   "metadata": {},
   "outputs": [],
   "source": [
    "\"\"\"\n",
    "Q2. Give advantages and disadvantages of using API.\n",
    "\n",
    "Ans: \n",
    "Advantage of API:\n",
    "\n",
    "1.it allows to share data and functionality with audience, increasing traffic and visibility \n",
    "  for your website or app.\n",
    "\n",
    "2. it makes easy to integrate with other application and servies, saving your time and money.\n",
    "\n",
    "3. it reduces the amount of work needed on the backend, making maintencance and updates more effortless and less time - consuming.\n",
    "\n",
    "\n",
    "Disadvantage of API:\n",
    "1. an api ia a getway, and can become a hacker primary terget, once the \n",
    "api compromised, all other application and system become vulnerable.\n",
    "\n",
    "2. It can complex and challenging to use, making them challenging for novice developers.\n",
    "\n",
    "3. They may not have all the functionality you need, requring additional development work.\n",
    "\"\"\""
   ]
  },
  {
   "cell_type": "code",
   "execution_count": null,
   "id": "0df02cb5-2df7-460c-824b-47f39f0b1278",
   "metadata": {},
   "outputs": [],
   "source": [
    "\"\"\"\n",
    "Q3. What is a Web API? Differentiate between API and Web API.\n",
    "\n",
    "Ans:  A collection of open protocols  and standards which are widely used for exchanging.\n",
    "      data and system or application. is web api.\n",
    "      \n",
    "Difference between API AND WEB API.\n",
    "\n",
    "1. web service is collection of open sources protocol and standerds used for exchanging data between system and application.\n",
    "   where as api is software interface that allows two application to intract with each other without any user involvement.\n",
    "\n",
    "2. web service is used for REST, SOAP , and XML-RPC for communication, while api is used for any style of communcation.\n",
    "\n",
    "3. Web service support only HTTP protocol, whereas API supports HTTP/HTTPS\n",
    "  protocol.\n",
    "4. all web services are api but api api are not wweb serices.\n",
    "\n",
    "\"\"\""
   ]
  },
  {
   "cell_type": "code",
   "execution_count": null,
   "id": "228fb921-5bdc-469e-971a-a097801314b2",
   "metadata": {},
   "outputs": [],
   "source": [
    "\"\"\"\n",
    "Q4. Explain REST and SOAP Architecture. Mention shortcomings of SOAP.\n",
    "Ans: \n",
    "\n",
    "The shortcomming of soap are: \n",
    "1. it is extremely complicated for developer.\n",
    "2. It uses high bandwith."
   ]
  },
  {
   "cell_type": "code",
   "execution_count": null,
   "id": "d38632f6-ea7a-44ee-9793-032878b45562",
   "metadata": {},
   "outputs": [],
   "source": [
    "\"\"\"\n",
    "Q5. Differentiate between REST and SOAP.\n",
    "Ans: \n",
    "REST\n",
    "1. rest stands for represntation state transfer. \n",
    "2. rest uses uniforms service locators to access to the componente on the herdware device.\n",
    "3. rest works with plain text , XML , HTML, and JSON.\n",
    "4. rest can make use of SOAP.\n",
    "\n",
    "SOAP:\n",
    "\n",
    "1. soap stands for simple object access protocol .\n",
    "2. soap uses service interface to expose its functionality to client application.\n",
    "3. soap needs more bandwith for its usage .\n",
    "4. soap can't support rest.\n"
   ]
  }
 ],
 "metadata": {
  "kernelspec": {
   "display_name": "Python 3 (ipykernel)",
   "language": "python",
   "name": "python3"
  },
  "language_info": {
   "codemirror_mode": {
    "name": "ipython",
    "version": 3
   },
   "file_extension": ".py",
   "mimetype": "text/x-python",
   "name": "python",
   "nbconvert_exporter": "python",
   "pygments_lexer": "ipython3",
   "version": "3.10.8"
  }
 },
 "nbformat": 4,
 "nbformat_minor": 5
}
