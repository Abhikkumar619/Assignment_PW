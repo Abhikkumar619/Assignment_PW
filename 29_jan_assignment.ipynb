{
 "cells": [
  {
   "cell_type": "raw",
   "id": "6db2dfce-7e3e-4160-91b9-5627e2473f07",
   "metadata": {},
   "source": [
    "*****************  29 jan Assignment  **********************"
   ]
  },
  {
   "cell_type": "raw",
   "id": "a0321787-fd96-4bb3-b89d-62aebb851a22",
   "metadata": {},
   "source": [
    "1. Gudio van Rossum was developed python language in 1991."
   ]
  },
  {
   "cell_type": "raw",
   "id": "36b679f8-655b-4eab-98bd-917b040195ab",
   "metadata": {},
   "source": [
    "2. Python support object oriented language."
   ]
  },
  {
   "cell_type": "raw",
   "id": "62b930cf-d875-415a-962f-b49cc6fce53b",
   "metadata": {},
   "source": [
    "3. Yes python is insensitive language while dealing with identifier."
   ]
  },
  {
   "cell_type": "code",
   "execution_count": 3,
   "id": "4425a37c-6c4a-4657-aceb-d07462fef922",
   "metadata": {},
   "outputs": [],
   "source": [
    "#Examle: \n",
    "a=2\n",
    "A=5"
   ]
  },
  {
   "cell_type": "code",
   "execution_count": 2,
   "id": "63dd706c-b9b7-410d-8e50-bbe2ba859d5d",
   "metadata": {},
   "outputs": [
    {
     "data": {
      "text/plain": [
       "2"
      ]
     },
     "execution_count": 2,
     "metadata": {},
     "output_type": "execute_result"
    }
   ],
   "source": [
    "a"
   ]
  },
  {
   "cell_type": "code",
   "execution_count": 4,
   "id": "555ec5d7-9567-4d33-ac5f-88d955aa6413",
   "metadata": {},
   "outputs": [
    {
     "data": {
      "text/plain": [
       "5"
      ]
     },
     "execution_count": 4,
     "metadata": {},
     "output_type": "execute_result"
    }
   ],
   "source": [
    "A"
   ]
  },
  {
   "cell_type": "raw",
   "id": "0608491c-c235-4d22-984c-5a445adee5f6",
   "metadata": {},
   "source": [
    "4. The correct extension of python file is .py."
   ]
  },
  {
   "cell_type": "raw",
   "id": "c3fbad4a-bdd5-4b35-bad9-ee3351ccb19a",
   "metadata": {},
   "source": [
    "5. Python code is iterpreted language which means the sourse code of python program is converted in bytecode that is executed by ython virtual machine."
   ]
  },
  {
   "cell_type": "raw",
   "id": "c8000907-81a1-4f68-93fd-336cb6d5a32c",
   "metadata": {},
   "source": [
    "6. Function body , module , class name are the block of code used to define in programing language."
   ]
  },
  {
   "cell_type": "raw",
   "id": "fe540a83-3715-42fd-bdb9-f6c1f108a735",
   "metadata": {},
   "source": [
    "7. '#' is used for single line comment in python language."
   ]
  },
  {
   "cell_type": "raw",
   "id": "b1876e92-c776-4a74-a1f3-f64337025003",
   "metadata": {},
   "source": [
    "8. python_version() is used to check python version.\n"
   ]
  },
  {
   "cell_type": "raw",
   "id": "3b51b9c2-9593-46e6-a946-7159bad8031e",
   "metadata": {},
   "source": [
    "9. Python support the creation of anonymous function at runtime, using a construct called lambda function."
   ]
  },
  {
   "cell_type": "raw",
   "id": "df6f38a2-4ba3-4b76-8a4a-62234521d13c",
   "metadata": {},
   "source": [
    "10. pip stand for preferred intaller progream."
   ]
  },
  {
   "cell_type": "raw",
   "id": "80cdd049-05f2-4878-a02f-5e2d283c4d95",
   "metadata": {},
   "source": [
    "11. print(), type(), list(), input(), sorted(). are the build in function in python program."
   ]
  },
  {
   "cell_type": "raw",
   "id": "85217c23-c199-4cae-b03d-6faf385c0e2d",
   "metadata": {},
   "source": [
    "12. Maximum possible length of identifier in python is 79 character."
   ]
  },
  {
   "cell_type": "raw",
   "id": "89bae9f9-d184-470f-b4bb-4d73f9655dc4",
   "metadata": {},
   "source": [
    "13.  advantage of pyhon. are: \n",
    "\n",
    "1.It has large developer community. and most popular language       world wide.\n",
    "2. Extensive libraries.\n",
    "3. write less do more.\n",
    "4. wide range od uses cases like data science , cybersecurity , statistics, back-end web development."
   ]
  },
  {
   "cell_type": "raw",
   "id": "2f893a04-40de-4595-8b46-6daa4f3fb7ae",
   "metadata": {},
   "source": [
    "15. memory management in python invloves a rivate heap containing all python objects and data structure. "
   ]
  },
  {
   "cell_type": "raw",
   "id": "7dd8ba4f-01d9-4530-88e1-98d53fd84ead",
   "metadata": {},
   "source": [
    "16."
   ]
  },
  {
   "cell_type": "raw",
   "id": "299b5343-f91b-47a0-bd95-88858b13dd5b",
   "metadata": {},
   "source": [
    "17. Yes, indentaion is required in python to execute block of statement."
   ]
  }
 ],
 "metadata": {
  "kernelspec": {
   "display_name": "Python 3 (ipykernel)",
   "language": "python",
   "name": "python3"
  },
  "language_info": {
   "codemirror_mode": {
    "name": "ipython",
    "version": 3
   },
   "file_extension": ".py",
   "mimetype": "text/x-python",
   "name": "python",
   "nbconvert_exporter": "python",
   "pygments_lexer": "ipython3",
   "version": "3.10.8"
  }
 },
 "nbformat": 4,
 "nbformat_minor": 5
}
