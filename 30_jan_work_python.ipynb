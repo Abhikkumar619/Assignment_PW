{
 "cells": [
  {
   "cell_type": "code",
   "execution_count": null,
   "id": "03c8ec90-dfd4-429a-810d-8337aceef1e8",
   "metadata": {},
   "outputs": [],
   "source": [
    "#*****************Assigment 2 *************************"
   ]
  },
  {
   "cell_type": "code",
   "execution_count": 2,
   "id": "1a7ceaec-7361-4cbf-ab91-7052a6b80fb9",
   "metadata": {},
   "outputs": [
    {
     "name": "stdin",
     "output_type": "stream",
     "text": [
      "Enter your mark:  70\n"
     ]
    },
    {
     "name": "stdout",
     "output_type": "stream",
     "text": [
      "C\n"
     ]
    }
   ],
   "source": [
    "# 1\n",
    "mark=int(input(\"Enter your mark: \"))\n",
    "if mark>90 and mark<=100:\n",
    "    print(\"A\")\n",
    "elif mark >80 and mark <=90:\n",
    "    print(\"B\")\n",
    "elif mark >=60 and mark<=80:\n",
    "    print(\"C\")\n",
    "else:\n",
    "    print(\"D\")"
   ]
  },
  {
   "cell_type": "code",
   "execution_count": 5,
   "id": "fe3759df-23bd-4cec-947f-e91dafd40f0f",
   "metadata": {},
   "outputs": [
    {
     "name": "stdin",
     "output_type": "stream",
     "text": [
      "Enter the cost price of bike:  80000\n"
     ]
    },
    {
     "name": "stdout",
     "output_type": "stream",
     "text": [
      "10% tax\n"
     ]
    }
   ],
   "source": [
    "cp_bike=int(input(\"Enter the cost price of bike: \"))\n",
    "if cp_bike > 100000:\n",
    "    print(\"15% tax\")\n",
    "elif cp_bike >50000 and cp_bike <=100000:\n",
    "    print(\"10% tax\")\n",
    "else:\n",
    "    print(\"5% tax\")\n",
    "    "
   ]
  },
  {
   "cell_type": "code",
   "execution_count": null,
   "id": "9ad1a602-8812-4fd4-8e4c-e0d6bfcd17bb",
   "metadata": {},
   "outputs": [],
   "source": [
    "city_name=input(\"Enter name of city: \")\n",
    "if city_name=='Delhi' or city_name== 'delhi':\n",
    "    print(\"Red fort\")\n",
    "if city_name== 'Agra' or city_name=='agra':\n",
    "    print(\"Taj Mahal\")\n",
    "if city_name=='Jaipur' or city_name == 'jaipur':\n",
    "    print(\"jal mahal\")"
   ]
  },
  {
   "cell_type": "code",
   "execution_count": null,
   "id": "d0d4c962-960d-4a89-a3e6-803629d35e67",
   "metadata": {},
   "outputs": [],
   "source": []
  },
  {
   "cell_type": "code",
   "execution_count": null,
   "id": "973ad41e-1cbe-49f8-8a01-61c226dcb80b",
   "metadata": {},
   "outputs": [],
   "source": [
    "\n"
   ]
  },
  {
   "cell_type": "code",
   "execution_count": 1,
   "id": "2a3518a8-f680-4e99-b1b3-c2670fb97526",
   "metadata": {},
   "outputs": [
    {
     "name": "stdout",
     "output_type": "stream",
     "text": [
      "10\n",
      "9\n",
      "8\n",
      "7\n",
      "6\n",
      "5\n",
      "4\n",
      "3\n",
      "2\n",
      "1\n"
     ]
    }
   ],
   "source": [
    "i=10\n",
    "while i>0:\n",
    "    print(i)\n",
    "    i=i-1"
   ]
  },
  {
   "cell_type": "code",
   "execution_count": 10,
   "id": "7842ff1a-a124-48f7-8c0e-182005c5c6ce",
   "metadata": {},
   "outputs": [
    {
     "name": "stdout",
     "output_type": "stream",
     "text": [
      "* \n",
      "* * \n",
      "* * * \n",
      "* * * * \n",
      "* * * * * \n"
     ]
    }
   ],
   "source": [
    "k=1\n",
    "for i in range(0,5):\n",
    "    for j in range(0,k):\n",
    "        print(\"*\",end=' ')\n",
    "    k=k+1\n",
    "    print()\n",
    "        "
   ]
  },
  {
   "cell_type": "code",
   "execution_count": 12,
   "id": "70307d3f-9a92-4356-b4e2-8bbd34be8b87",
   "metadata": {},
   "outputs": [
    {
     "name": "stdout",
     "output_type": "stream",
     "text": [
      "*****\n",
      "*****\n",
      "*****\n",
      "*****\n",
      "*****\n"
     ]
    }
   ],
   "source": [
    "for i in range(0,5):\n",
    "    for j in range(0,5):\n",
    "        print(\"*\",end='')\n",
    "    print()"
   ]
  },
  {
   "cell_type": "code",
   "execution_count": 16,
   "id": "cde42fb2-3260-4498-9313-f5d5e19e59f7",
   "metadata": {},
   "outputs": [
    {
     "name": "stdout",
     "output_type": "stream",
     "text": [
      "1\n",
      "12\n",
      "123\n",
      "1234\n",
      "12345\n"
     ]
    }
   ],
   "source": [
    "for i in range (0,5):\n",
    "    num=1\n",
    "    for j in range(0, i+1):\n",
    "        print(num, end='')\n",
    "        num=num+1\n",
    "    print()"
   ]
  },
  {
   "cell_type": "code",
   "execution_count": null,
   "id": "dfe53536-6a4a-45ad-9bd9-43a0d88e9eed",
   "metadata": {},
   "outputs": [],
   "source": []
  }
 ],
 "metadata": {
  "kernelspec": {
   "display_name": "Python 3 (ipykernel)",
   "language": "python",
   "name": "python3"
  },
  "language_info": {
   "codemirror_mode": {
    "name": "ipython",
    "version": 3
   },
   "file_extension": ".py",
   "mimetype": "text/x-python",
   "name": "python",
   "nbconvert_exporter": "python",
   "pygments_lexer": "ipython3",
   "version": "3.10.8"
  }
 },
 "nbformat": 4,
 "nbformat_minor": 5
}
